{
 "cells": [
  {
   "cell_type": "code",
   "execution_count": 52,
   "id": "b941713c",
   "metadata": {},
   "outputs": [],
   "source": [
    "from pyspark.sql import SparkSession\n",
    "\n",
    "spark = SparkSession.builder.appName(\"DataAnalysis\").getOrCreate()\n",
    "spark.sparkContext.setLogLevel(\"ERROR\")\n"
   ]
  },
  {
   "cell_type": "code",
   "execution_count": 53,
   "id": "2a3c8162",
   "metadata": {},
   "outputs": [],
   "source": [
    "U5MR_age = spark.read.csv('U5MR_age.csv', header=True, inferSchema=True)\n",
    "LifeExpectancyData = spark.read.csv('LifeExpectancyData.csv', header=True, inferSchema=True)"
   ]
  },
  {
   "cell_type": "code",
   "execution_count": 54,
   "id": "09b543d8",
   "metadata": {},
   "outputs": [],
   "source": [
    "import pandas as pd\n",
    "\n",
    "U5MR_excel = pd.read_excel('U5MR.xlsx')\n",
    "\n",
    "U5MR = spark.createDataFrame(U5MR_excel)"
   ]
  },
  {
   "cell_type": "code",
   "execution_count": 55,
   "id": "c6a9c277",
   "metadata": {},
   "outputs": [],
   "source": [
    "U5MR_gender_excel = pd.read_excel('U5MR_Gender.xlsx')\n",
    "U5MR_gender = spark.createDataFrame(U5MR_gender_excel)"
   ]
  },
  {
   "cell_type": "code",
   "execution_count": 56,
   "id": "bbdea93c",
   "metadata": {},
   "outputs": [
    {
     "name": "stdout",
     "output_type": "stream",
     "text": [
      "+-----------+----+----------+-----------+---------------+-------------+\n",
      "|    Country|Year|    Status|Life_expect|Adult_Mortality|infant_deaths|\n",
      "+-----------+----+----------+-----------+---------------+-------------+\n",
      "|Afghanistan|2015|Developing|       65.0|            263|           62|\n",
      "|Afghanistan|2014|Developing|       59.9|            271|           64|\n",
      "|Afghanistan|2013|Developing|       59.9|            268|           66|\n",
      "|Afghanistan|2012|Developing|       59.5|            272|           69|\n",
      "|Afghanistan|2011|Developing|       59.2|            275|           71|\n",
      "|Afghanistan|2010|Developing|       58.8|            279|           74|\n",
      "|Afghanistan|2009|Developing|       58.6|            281|           77|\n",
      "|Afghanistan|2008|Developing|       58.1|            287|           80|\n",
      "|Afghanistan|2007|Developing|       57.5|            295|           82|\n",
      "|Afghanistan|2006|Developing|       57.3|            295|           84|\n",
      "|Afghanistan|2005|Developing|       57.3|            291|           85|\n",
      "|Afghanistan|2004|Developing|       57.0|            293|           87|\n",
      "|Afghanistan|2003|Developing|       56.7|            295|           87|\n",
      "|Afghanistan|2002|Developing|       56.2|              3|           88|\n",
      "|Afghanistan|2001|Developing|       55.3|            316|           88|\n",
      "|Afghanistan|2000|Developing|       54.8|            321|           88|\n",
      "|    Albania|2015|Developing|       77.8|             74|            0|\n",
      "|    Albania|2014|Developing|       77.5|              8|            0|\n",
      "|    Albania|2013|Developing|       77.2|             84|            0|\n",
      "|    Albania|2012|Developing|       76.9|             86|            0|\n",
      "+-----------+----+----------+-----------+---------------+-------------+\n",
      "only showing top 20 rows\n",
      "\n",
      "+-----------+-----------+-------------------+------------------+-------------------------------+---------+\n",
      "|        GDP| Population|thinness_1-19_years|thinness_5-9_years|Income_composition_of_resources|Schooling|\n",
      "+-----------+-----------+-------------------+------------------+-------------------------------+---------+\n",
      "|  584.25921|3.3736494E7|               17.2|              17.3|                          0.479|     10.1|\n",
      "| 612.696514|   327582.0|               17.5|              17.5|                          0.476|     10.0|\n",
      "| 631.744976|3.1731688E7|               17.7|              17.7|                           0.47|      9.9|\n",
      "|    669.959|  3696958.0|               17.9|              18.0|                          0.463|      9.8|\n",
      "|  63.537231|  2978599.0|               18.2|              18.2|                          0.454|      9.5|\n",
      "|  553.32894|  2883167.0|               18.4|              18.4|                          0.448|      9.2|\n",
      "|445.8932979|   284331.0|               18.6|              18.7|                          0.434|      8.9|\n",
      "|373.3611163|  2729431.0|               18.8|              18.9|                          0.433|      8.7|\n",
      "| 369.835796|2.6616792E7|               19.0|              19.1|                          0.415|      8.4|\n",
      "|  272.56377|  2589345.0|               19.2|              19.3|                          0.405|      8.1|\n",
      "| 25.2941299|   257798.0|               19.3|              19.5|                          0.396|      7.9|\n",
      "|219.1413528|2.4118979E7|               19.5|              19.7|                          0.381|      6.8|\n",
      "|198.7285436|  2364851.0|               19.7|              19.9|                          0.373|      6.5|\n",
      "|  187.84595|2.1979923E7|               19.9|               2.2|                          0.341|      6.2|\n",
      "|  117.49698|  2966463.0|                2.1|               2.4|                           0.34|      5.9|\n",
      "|     114.56|   293756.0|                2.3|               2.5|                          0.338|      5.5|\n",
      "| 3954.22783|    28873.0|                1.2|               1.3|                          0.762|     14.2|\n",
      "|4575.763787|   288914.0|                1.2|               1.3|                          0.761|     14.2|\n",
      "| 4414.72314|   289592.0|                1.3|               1.4|                          0.759|     14.2|\n",
      "| 4247.61438|     2941.0|                1.3|               1.4|                          0.752|     14.2|\n",
      "+-----------+-----------+-------------------+------------------+-------------------------------+---------+\n",
      "only showing top 20 rows\n",
      "\n"
     ]
    }
   ],
   "source": [
    "# 2.2 describe data\n",
    "\n",
    "columns = LifeExpectancyData.columns\n",
    "\n",
    "# first 6 columns\n",
    "LifeExpectancyData.select(columns[:6]).show()\n",
    "# last 6 columns\n",
    "LifeExpectancyData.select(columns[-6:]).show()"
   ]
  },
  {
   "cell_type": "code",
   "execution_count": 57,
   "id": "71415e2e",
   "metadata": {},
   "outputs": [
    {
     "name": "stdout",
     "output_type": "stream",
     "text": [
      "+-------+-----------+------------------+----------+-----------------+------------------+------------------+\n",
      "|summary|    Country|              Year|    Status|      Life_expect|   Adult_Mortality|     infant_deaths|\n",
      "+-------+-----------+------------------+----------+-----------------+------------------+------------------+\n",
      "|  count|       2938|              2938|      2938|             2928|              2928|              2938|\n",
      "|   mean|       null|2007.5187202178352|      null|69.22493169398912|164.79644808743168|30.303948264125257|\n",
      "| stddev|       null| 4.613840940258099|      null|9.523867487824305| 124.2920790034219|117.92650131339906|\n",
      "|    min|Afghanistan|              2000| Developed|             36.3|                 1|                 0|\n",
      "|    max|   Zimbabwe|              2015|Developing|             89.0|               723|              1800|\n",
      "+-------+-----------+------------------+----------+-----------------+------------------+------------------+\n",
      "\n",
      "+-------+------------------+--------------------+-------------------+------------------+-------------------------------+------------------+\n",
      "|summary|               GDP|          Population|thinness_1-19_years|thinness_5-9_years|Income_composition_of_resources|         Schooling|\n",
      "+-------+------------------+--------------------+-------------------+------------------+-------------------------------+------------------+\n",
      "|  count|              2490|                2286|               2904|              2904|                           2771|              2775|\n",
      "|   mean| 7483.158469138481|1.2753375120052498E7| 4.8397038567493205| 4.870316804407711|             0.6275510645976166|11.992792792792786|\n",
      "| stddev|14270.169341515959| 6.101209650842794E7|  4.420194947144322| 4.508882086983007|             0.2109035551515931|3.3589197211023554|\n",
      "|    min|           1.68135|                34.0|                0.1|               0.1|                            0.0|               0.0|\n",
      "|    max|       119172.7418|       1.293859294E9|               27.7|              28.6|                          0.948|              20.7|\n",
      "+-------+------------------+--------------------+-------------------+------------------+-------------------------------+------------------+\n",
      "\n"
     ]
    }
   ],
   "source": [
    "columns = LifeExpectancyData.columns\n",
    "# first 6 columns\n",
    "LifeExpectancyData.select(columns[:6]).describe().show()\n",
    "# last 6 columns\n",
    "LifeExpectancyData.select(columns[-6:]).describe().show()"
   ]
  },
  {
   "cell_type": "code",
   "execution_count": 58,
   "id": "dca2cace",
   "metadata": {},
   "outputs": [
    {
     "name": "stdout",
     "output_type": "stream",
     "text": [
      "+-----------+----+-----------------------------------------------+\n",
      "|     Entity|Year|Mortality rate, under-5 (per 1,000 live births)|\n",
      "+-----------+----+-----------------------------------------------+\n",
      "|Afghanistan|1960|                               35.8200012207031|\n",
      "|Afghanistan|1961|                               35.2200012207031|\n",
      "|Afghanistan|1962|                               34.6299987792968|\n",
      "|Afghanistan|1963|                               34.0600006103515|\n",
      "|Afghanistan|1964|                               33.5100006103515|\n",
      "|Afghanistan|1965|                               32.9799987792968|\n",
      "|Afghanistan|1966|                               32.4399993896484|\n",
      "|Afghanistan|1967|                               31.8799987792968|\n",
      "|Afghanistan|1968|                               31.3299987792968|\n",
      "|Afghanistan|1969|                               30.7899993896484|\n",
      "|Afghanistan|1970|                               30.2100006103515|\n",
      "|Afghanistan|1971|                               29.6600006103515|\n",
      "|Afghanistan|1972|                                           29.1|\n",
      "|Afghanistan|1973|                               28.5399993896484|\n",
      "|Afghanistan|1974|                               27.9600006103515|\n",
      "|Afghanistan|1975|                               27.3799987792968|\n",
      "|Afghanistan|1976|                                           26.8|\n",
      "|Afghanistan|1977|                               26.2100006103515|\n",
      "|Afghanistan|1978|                                           25.6|\n",
      "|Afghanistan|1979|                               24.9699996948242|\n",
      "+-----------+----+-----------------------------------------------+\n",
      "only showing top 20 rows\n",
      "\n"
     ]
    }
   ],
   "source": [
    "U5MR.show()"
   ]
  },
  {
   "cell_type": "code",
   "execution_count": 59,
   "id": "f727646b",
   "metadata": {},
   "outputs": [
    {
     "name": "stdout",
     "output_type": "stream",
     "text": [
      "+-------+-----------+------------------+-----------------------------------------------+\n",
      "|summary|     Entity|              Year|Mortality rate, under-5 (per 1,000 live births)|\n",
      "+-------+-----------+------------------+-----------------------------------------------+\n",
      "|  count|      11226|             11226|                                          11226|\n",
      "|   mean|       null|1992.5762515588813|                              7.474313033865287|\n",
      "| stddev|       null|16.888760191812047|                              7.675478166875815|\n",
      "|    min|Afghanistan|              1960|                              0.179999995231628|\n",
      "|    max|   Zimbabwe|              2020|                               42.9700012207031|\n",
      "+-------+-----------+------------------+-----------------------------------------------+\n",
      "\n"
     ]
    }
   ],
   "source": [
    "U5MR.describe().show()"
   ]
  },
  {
   "cell_type": "code",
   "execution_count": 60,
   "id": "2bcea50a",
   "metadata": {},
   "outputs": [
    {
     "name": "stdout",
     "output_type": "stream",
     "text": [
      "+------+-----------+----+------+-----------------------+----------------+--------------+\n",
      "|Number|    Country|Year|Gender|Child Mortality(1 to 4)|Total Population|Mortality Rate|\n",
      "+------+-----------+----+------+-----------------------+----------------+--------------+\n",
      "|     0|Afghanistan|1967|Female|                  26012|        5080.813|   5.119653095|\n",
      "|     1|Afghanistan|1968|Female|                  26192|        5202.606|   5.034400068|\n",
      "|     2|Afghanistan|1969|Female|                  26335|        5333.936|    4.93725459|\n",
      "|     3|Afghanistan|1970|Female|                  26562|         5476.63|   4.850062904|\n",
      "|     4|Afghanistan|1971|Female|                  26671|        5630.099|   4.737216877|\n",
      "|     5|Afghanistan|1972|Female|                  26856|        5790.327|   4.638080026|\n",
      "|     6|Afghanistan|1973|Female|                  26926|         5951.12|   4.524526476|\n",
      "|     7|Afghanistan|1974|Female|                  26997|        6104.377|   4.422564334|\n",
      "|     8|Afghanistan|1975|Female|                  27079|        6242.891|    4.33757373|\n",
      "|     9|Afghanistan|1976|Female|                  27019|        6369.361|    4.24202679|\n",
      "|    10|Afghanistan|1977|Female|                  26852|         6482.15|   4.142452736|\n",
      "|    11|Afghanistan|1978|Female|                  26682|        6565.176|   4.064171318|\n",
      "|    12|Afghanistan|1979|Female|                  26289|        6597.855|   3.984476773|\n",
      "|    13|Afghanistan|1980|Female|                  25833|        6568.227|   3.933024848|\n",
      "|    14|Afghanistan|1981|Female|                  25196|        6472.949|   3.892507109|\n",
      "|    15|Afghanistan|1982|Female|                  24430|        6324.845|   3.862545248|\n",
      "|    16|Afghanistan|1983|Female|                  23550|        6149.028|     3.8298736|\n",
      "|    17|Afghanistan|1984|Female|                  22544|        5980.043|   3.769872558|\n",
      "|    18|Afghanistan|1985|Female|                  21466|        5846.315|   3.671714576|\n",
      "|    19|Afghanistan|1986|Female|                  20454|        5747.657|   3.558667471|\n",
      "+------+-----------+----+------+-----------------------+----------------+--------------+\n",
      "only showing top 20 rows\n",
      "\n"
     ]
    }
   ],
   "source": [
    "U5MR_gender.show()"
   ]
  },
  {
   "cell_type": "code",
   "execution_count": 61,
   "id": "954263cc",
   "metadata": {},
   "outputs": [
    {
     "name": "stdout",
     "output_type": "stream",
     "text": [
      "+-------+-----------------+-----------+------------------+------+-----------------------+----------------+--------------+\n",
      "|summary|           Number|    Country|              Year|Gender|Child Mortality(1 to 4)|Total Population|Mortality Rate|\n",
      "+-------+-----------------+-----------+------------------+------+-----------------------+----------------+--------------+\n",
      "|  count|            30940|      30940|             30940| 30940|                  30940|           30940|         30940|\n",
      "|   mean|          15469.5|       null| 1991.456561085973|  null|     12727.220426632191|             NaN|           NaN|\n",
      "| stddev|8931.753000764556|       null|17.323382195947257|  null|      63702.83959981849|             NaN|           NaN|\n",
      "|    min|                0|Afghanistan|              1955|Female|                      0|           1.606|           0.0|\n",
      "|    max|            30939|   Zimbabwe|              2019| Total|                1463821|             NaN|           NaN|\n",
      "+-------+-----------------+-----------+------------------+------+-----------------------+----------------+--------------+\n",
      "\n"
     ]
    }
   ],
   "source": [
    "U5MR_gender.describe().show()"
   ]
  },
  {
   "cell_type": "code",
   "execution_count": 62,
   "id": "8958a5e7",
   "metadata": {},
   "outputs": [
    {
     "name": "stdout",
     "output_type": "stream",
     "text": [
      "+--------------------+----+----+----------------+----+------------+\n",
      "|              Entity|Code|Year|        AgeGroup| _c4|Death_Counts|\n",
      "+--------------------+----+----+----------------+----+------------+\n",
      "|         Afghanistan| AFG|2000|Age: 28-364 days|null|       47666|\n",
      "|         Afghanistan| AFG|2001|Age: 28-364 days|null|       47102|\n",
      "|         Afghanistan| AFG|2002|Age: 28-364 days|null|       47126|\n",
      "|         Afghanistan| AFG|2003|Age: 28-364 days|null|       46204|\n",
      "|         Afghanistan| AFG|2004|Age: 28-364 days|null|       45106|\n",
      "|         Afghanistan| AFG|2005|Age: 28-364 days|null|       43768|\n",
      "|         Afghanistan| AFG|2006|Age: 28-364 days|null|       41967|\n",
      "|         Afghanistan| AFG|2007|Age: 28-364 days|null|       39903|\n",
      "|         Afghanistan| AFG|2008|Age: 28-364 days|null|       38488|\n",
      "|         Afghanistan| AFG|2009|Age: 28-364 days|null|       37114|\n",
      "|         Afghanistan| AFG|2010|Age: 28-364 days|null|       36001|\n",
      "|         Afghanistan| AFG|2011|Age: 28-364 days|null|       35108|\n",
      "|         Afghanistan| AFG|2012|Age: 28-364 days|null|       34270|\n",
      "|         Afghanistan| AFG|2013|Age: 28-364 days|null|       33482|\n",
      "|         Afghanistan| AFG|2014|Age: 28-364 days|null|       32719|\n",
      "|         Afghanistan| AFG|2015|Age: 28-364 days|null|       31769|\n",
      "|African Region (WHO)|null|2000|Age: 28-364 days|null|     1233869|\n",
      "|African Region (WHO)|null|2001|Age: 28-364 days|null|     1225719|\n",
      "|African Region (WHO)|null|2002|Age: 28-364 days|null|     1210975|\n",
      "|African Region (WHO)|null|2003|Age: 28-364 days|null|     1195190|\n",
      "+--------------------+----+----+----------------+----+------------+\n",
      "only showing top 20 rows\n",
      "\n"
     ]
    }
   ],
   "source": [
    "U5MR_age.show()"
   ]
  },
  {
   "cell_type": "code",
   "execution_count": 63,
   "id": "99c88b6b",
   "metadata": {},
   "outputs": [
    {
     "name": "stdout",
     "output_type": "stream",
     "text": [
      "+-------+-----------+-----+------------------+-------------+----+------------------+\n",
      "|summary|     Entity| Code|              Year|     AgeGroup| _c4|      Death_Counts|\n",
      "+-------+-----------+-----+------------------+-------------+----+------------------+\n",
      "|  count|      14592|13088|             14560|        14560|   0|             14560|\n",
      "|   mean|       null| null|2007.5010989010989|         null|null| 46162.28756868132|\n",
      "| stddev|       null| null| 4.609930408433627|         null|null|209412.14289433628|\n",
      "|    min|Afghanistan|  AFG|              2000|Age: 0-6 days|null|                 0|\n",
      "|    max|   Zimbabwe|  ZWE|              2015| Age:7-27Days|null|           2966641|\n",
      "+-------+-----------+-----+------------------+-------------+----+------------------+\n",
      "\n"
     ]
    }
   ],
   "source": [
    "U5MR_age.describe().show()"
   ]
  },
  {
   "cell_type": "code",
   "execution_count": 64,
   "id": "cb979bec",
   "metadata": {},
   "outputs": [
    {
     "name": "stdout",
     "output_type": "stream",
     "text": [
      "+-------+----+------+-----------+---------------+-------------+-------+----------------------+----------+-------+---+-----------------+-----+-----------------+----------+--------+---+----------+-------------------+------------------+-------------------------------+---------+\n",
      "|Country|Year|Status|Life_expect|Adult_Mortality|infant_deaths|Alcohol|percentage_expenditure|HepatitisB|Measles|BMI|under_five_deaths|Polio|Total_expenditure|Diphtheria|HIV_AIDS|GDP|Population|thinness_1-19_years|thinness_5-9_years|Income_composition_of_resources|Schooling|\n",
      "+-------+----+------+-----------+---------------+-------------+-------+----------------------+----------+-------+---+-----------------+-----+-----------------+----------+--------+---+----------+-------------------+------------------+-------------------------------+---------+\n",
      "|      0|   0|     0|         10|             10|            0|    194|                     0|       553|      0| 34|                0|   19|              226|        19|       0|448|       652|                 34|                34|                            167|      163|\n",
      "+-------+----+------+-----------+---------------+-------------+-------+----------------------+----------+-------+---+-----------------+-----+-----------------+----------+--------+---+----------+-------------------+------------------+-------------------------------+---------+\n",
      "\n"
     ]
    }
   ],
   "source": [
    "\n",
    "from pyspark.sql.functions import col, isnan, when, count\n",
    "LifeExpectancyData.select([count(when(col(c).isNull() | isnan(c), c)).alias(c) for c in LifeExpectancyData.columns]).show()\n"
   ]
  },
  {
   "cell_type": "code",
   "execution_count": 65,
   "id": "3a72b43e",
   "metadata": {},
   "outputs": [
    {
     "name": "stdout",
     "output_type": "stream",
     "text": [
      "+------+----+-----------------------------------------------+\n",
      "|Entity|Year|Mortality rate, under-5 (per 1,000 live births)|\n",
      "+------+----+-----------------------------------------------+\n",
      "|     0|   0|                                              0|\n",
      "+------+----+-----------------------------------------------+\n",
      "\n"
     ]
    }
   ],
   "source": [
    "\n",
    "U5MR.select([count(when(col(c).isNull() | isnan(c), c)).alias(c) for c in U5MR.columns]).show()\n"
   ]
  },
  {
   "cell_type": "code",
   "execution_count": 66,
   "id": "500596c6",
   "metadata": {},
   "outputs": [
    {
     "name": "stdout",
     "output_type": "stream",
     "text": [
      "+------+-------+----+------+-----------------------+----------------+--------------+\n",
      "|Number|Country|Year|Gender|Child Mortality(1 to 4)|Total Population|Mortality Rate|\n",
      "+------+-------+----+------+-----------------------+----------------+--------------+\n",
      "|     0|      0|   0|     0|                      0|             876|           876|\n",
      "+------+-------+----+------+-----------------------+----------------+--------------+\n",
      "\n"
     ]
    }
   ],
   "source": [
    "U5MR_gender.select([count(when(col(c).isNull() | isnan(c), c)).alias(c) for c in U5MR_gender.columns]).show()"
   ]
  },
  {
   "cell_type": "code",
   "execution_count": 67,
   "id": "e33f1532",
   "metadata": {},
   "outputs": [
    {
     "name": "stdout",
     "output_type": "stream",
     "text": [
      "+------+----+----+--------+-----+------------+\n",
      "|Entity|Code|Year|AgeGroup|  _c4|Death_Counts|\n",
      "+------+----+----+--------+-----+------------+\n",
      "|     0|1504|  32|      32|14592|          32|\n",
      "+------+----+----+--------+-----+------------+\n",
      "\n"
     ]
    }
   ],
   "source": [
    "U5MR_age.select([count(when(col(c).isNull() | isnan(c), c)).alias(c) for c in U5MR_age.columns]).show()"
   ]
  },
  {
   "cell_type": "code",
   "execution_count": 68,
   "id": "2aa0d3f6-dffc-488f-9bb8-914a10201d12",
   "metadata": {},
   "outputs": [],
   "source": [
    "#03-DP\n",
    "# select data\n",
    "# Select Timeframe"
   ]
  },
  {
   "cell_type": "code",
   "execution_count": 69,
   "id": "85869df5",
   "metadata": {},
   "outputs": [],
   "source": [
    "LifeData = LifeExpectancyData.filter((col('Year') >= 2000) & (col('Year') <= 2015))\n",
    "GenderData = U5MR_gender.filter((col('Year') >= 2000) & (col('Year') <= 2015))\n",
    "MRData = U5MR.filter((col('Year') >= 2000) & (col('Year') <= 2015))\n",
    "AgeData = U5MR_age.filter((col('Year') >= 2000) & (col('Year') <= 2015))"
   ]
  },
  {
   "cell_type": "code",
   "execution_count": 70,
   "id": "d3f6bdca",
   "metadata": {},
   "outputs": [
    {
     "name": "stdout",
     "output_type": "stream",
     "text": [
      "+-----------+----+----------+-----------+---------------+-------------+-------+----------------------+----------+-------+----+-----------------+-----+-----------------+----------+--------+-----------+-----------+-------------------+------------------+-------------------------------+---------+\n",
      "|    Country|Year|    Status|Life_expect|Adult_Mortality|infant_deaths|Alcohol|percentage_expenditure|HepatitisB|Measles| BMI|under_five_deaths|Polio|Total_expenditure|Diphtheria|HIV_AIDS|        GDP| Population|thinness_1-19_years|thinness_5-9_years|Income_composition_of_resources|Schooling|\n",
      "+-----------+----+----------+-----------+---------------+-------------+-------+----------------------+----------+-------+----+-----------------+-----+-----------------+----------+--------+-----------+-----------+-------------------+------------------+-------------------------------+---------+\n",
      "|Afghanistan|2015|Developing|       65.0|            263|           62|   0.01|           71.27962362|        65|   1154|19.1|               83|    6|             8.16|        65|     0.1|  584.25921|3.3736494E7|               17.2|              17.3|                          0.479|     10.1|\n",
      "|Afghanistan|2014|Developing|       59.9|            271|           64|   0.01|           73.52358168|        62|    492|18.6|               86|   58|             8.18|        62|     0.1| 612.696514|   327582.0|               17.5|              17.5|                          0.476|     10.0|\n",
      "|Afghanistan|2013|Developing|       59.9|            268|           66|   0.01|           73.21924272|        64|    430|18.1|               89|   62|             8.13|        64|     0.1| 631.744976|3.1731688E7|               17.7|              17.7|                           0.47|      9.9|\n",
      "|Afghanistan|2012|Developing|       59.5|            272|           69|   0.01|            78.1842153|        67|   2787|17.6|               93|   67|             8.52|        67|     0.1|    669.959|  3696958.0|               17.9|              18.0|                          0.463|      9.8|\n",
      "|Afghanistan|2011|Developing|       59.2|            275|           71|   0.01|           7.097108703|        68|   3013|17.2|               97|   68|             7.87|        68|     0.1|  63.537231|  2978599.0|               18.2|              18.2|                          0.454|      9.5|\n",
      "|Afghanistan|2010|Developing|       58.8|            279|           74|   0.01|           79.67936736|        66|   1989|16.7|              102|   66|              9.2|        66|     0.1|  553.32894|  2883167.0|               18.4|              18.4|                          0.448|      9.2|\n",
      "|Afghanistan|2009|Developing|       58.6|            281|           77|   0.01|           56.76221682|        63|   2861|16.2|              106|   63|             9.42|        63|     0.1|445.8932979|   284331.0|               18.6|              18.7|                          0.434|      8.9|\n",
      "|Afghanistan|2008|Developing|       58.1|            287|           80|   0.03|           25.87392536|        64|   1599|15.7|              110|   64|             8.33|        64|     0.1|373.3611163|  2729431.0|               18.8|              18.9|                          0.433|      8.7|\n",
      "|Afghanistan|2007|Developing|       57.5|            295|           82|   0.02|           10.91015598|        63|   1141|15.2|              113|   63|             6.73|        63|     0.1| 369.835796|2.6616792E7|               19.0|              19.1|                          0.415|      8.4|\n",
      "|Afghanistan|2006|Developing|       57.3|            295|           84|   0.03|           17.17151751|        64|   1990|14.7|              116|   58|             7.43|        58|     0.1|  272.56377|  2589345.0|               19.2|              19.3|                          0.405|      8.1|\n",
      "|Afghanistan|2005|Developing|       57.3|            291|           85|   0.02|           1.388647732|        66|   1296|14.2|              118|   58|              8.7|        58|     0.1| 25.2941299|   257798.0|               19.3|              19.5|                          0.396|      7.9|\n",
      "|Afghanistan|2004|Developing|       57.0|            293|           87|   0.02|           15.29606643|        67|    466|13.8|              120|    5|             8.79|         5|     0.1|219.1413528|2.4118979E7|               19.5|              19.7|                          0.381|      6.8|\n",
      "|Afghanistan|2003|Developing|       56.7|            295|           87|   0.01|           11.08905273|        65|    798|13.4|              122|   41|             8.82|        41|     0.1|198.7285436|  2364851.0|               19.7|              19.9|                          0.373|      6.5|\n",
      "|Afghanistan|2002|Developing|       56.2|              3|           88|   0.01|           16.88735091|        64|   2486|13.0|              122|   36|             7.76|        36|     0.1|  187.84595|2.1979923E7|               19.9|               2.2|                          0.341|      6.2|\n",
      "|Afghanistan|2001|Developing|       55.3|            316|           88|   0.01|            10.5747282|        63|   8762|12.6|              122|   35|              7.8|        33|     0.1|  117.49698|  2966463.0|                2.1|               2.4|                           0.34|      5.9|\n",
      "|Afghanistan|2000|Developing|       54.8|            321|           88|   0.01|              10.42496|        62|   6532|12.2|              122|   24|              8.2|        24|     0.1|     114.56|   293756.0|                2.3|               2.5|                          0.338|      5.5|\n",
      "|    Albania|2015|Developing|       77.8|             74|            0|    4.6|           364.9752287|        99|      0|58.0|                0|   99|              6.0|        99|     0.1| 3954.22783|    28873.0|                1.2|               1.3|                          0.762|     14.2|\n",
      "|    Albania|2014|Developing|       77.5|              8|            0|   4.51|           428.7490668|        98|      0|57.2|                1|   98|             5.88|        98|     0.1|4575.763787|   288914.0|                1.2|               1.3|                          0.761|     14.2|\n",
      "|    Albania|2013|Developing|       77.2|             84|            0|   4.76|           430.8769785|        99|      0|56.5|                1|   99|             5.66|        99|     0.1| 4414.72314|   289592.0|                1.3|               1.4|                          0.759|     14.2|\n",
      "|    Albania|2012|Developing|       76.9|             86|            0|   5.14|           412.4433563|        99|      9|55.8|                1|   99|             5.59|        99|     0.1| 4247.61438|     2941.0|                1.3|               1.4|                          0.752|     14.2|\n",
      "+-----------+----+----------+-----------+---------------+-------------+-------+----------------------+----------+-------+----+-----------------+-----+-----------------+----------+--------+-----------+-----------+-------------------+------------------+-------------------------------+---------+\n",
      "only showing top 20 rows\n",
      "\n",
      "+------+-----------+----+------+-----------------------+----------------+--------------+\n",
      "|Number|    Country|Year|Gender|Child Mortality(1 to 4)|Total Population|Mortality Rate|\n",
      "+------+-----------+----+------+-----------------------+----------------+--------------+\n",
      "|    33|Afghanistan|2000|Female|                  17589|       10090.449|   1.743133532|\n",
      "|    34|Afghanistan|2001|Female|                  17524|       10489.238|   1.670664733|\n",
      "|    35|Afghanistan|2002|Female|                  17333|       10958.668|   1.581670327|\n",
      "|    36|Afghanistan|2003|Female|                  17038|       11466.237|   1.485927772|\n",
      "|    37|Afghanistan|2004|Female|                  16680|       11962.963|   1.394303401|\n",
      "|    38|Afghanistan|2005|Female|                  16206|        12414.59|   1.305399534|\n",
      "|    39|Afghanistan|2006|Female|                  15701|       12809.162|   1.225763247|\n",
      "|    40|Afghanistan|2007|Female|                  15136|       13161.572|   1.150014603|\n",
      "|    41|Afghanistan|2008|Female|                  14514|       13496.556|   1.075385454|\n",
      "|    42|Afghanistan|2009|Female|                  13849|       13850.751|   0.999873581|\n",
      "|    43|Afghanistan|2010|Female|                  13190|       14249.755|   0.925629949|\n",
      "|    44|Afghanistan|2011|Female|                  12523|        14702.05|   0.851785975|\n",
      "|    45|Afghanistan|2012|Female|                  11796|       15196.504|   0.776231165|\n",
      "|    46|Afghanistan|2013|Female|                  11108|       15715.314|   0.706826475|\n",
      "|    47|Afghanistan|2014|Female|                  10436|       16232.001|   0.642927511|\n",
      "|    48|Afghanistan|2015|Female|                   9795|       16727.437|   0.585564902|\n",
      "|    86|Afghanistan|2000|  Male|                  17787|       10689.508|    1.66396807|\n",
      "|    87|Afghanistan|2001|  Male|                  17777|       11117.754|   1.598974037|\n",
      "|    88|Afghanistan|2002|  Male|                  17650|       11642.106|   1.516048729|\n",
      "|    89|Afghanistan|2003|  Male|                  17414|       12214.634|    1.42566695|\n",
      "+------+-----------+----+------+-----------------------+----------------+--------------+\n",
      "only showing top 20 rows\n",
      "\n"
     ]
    },
    {
     "name": "stdout",
     "output_type": "stream",
     "text": [
      "+-----------+----+-----------------------------------------------+\n",
      "|     Entity|Year|Mortality rate, under-5 (per 1,000 live births)|\n",
      "+-----------+----+-----------------------------------------------+\n",
      "|Afghanistan|2000|                               12.9199996948242|\n",
      "|Afghanistan|2001|                               12.5199996948242|\n",
      "|Afghanistan|2002|                               12.1099998474121|\n",
      "|Afghanistan|2003|                               11.6900001525878|\n",
      "|Afghanistan|2004|                               11.2599998474121|\n",
      "|Afghanistan|2005|                               10.8400001525878|\n",
      "|Afghanistan|2006|                               10.4099998474121|\n",
      "|Afghanistan|2007|                               9.99000015258789|\n",
      "|Afghanistan|2008|                               9.56999969482421|\n",
      "|Afghanistan|2009|                               9.16999969482421|\n",
      "|Afghanistan|2010|                               8.78000030517578|\n",
      "|Afghanistan|2011|                                            8.4|\n",
      "|Afghanistan|2012|                               8.03000030517578|\n",
      "|Afghanistan|2013|                               7.69000015258789|\n",
      "|Afghanistan|2014|                                7.3599998474121|\n",
      "|Afghanistan|2015|                               7.04000015258789|\n",
      "|    Albania|2000|                               2.72000007629394|\n",
      "|    Albania|2001|                               2.57999992370605|\n",
      "|    Albania|2002|                               2.43999996185302|\n",
      "|    Albania|2003|                                            2.3|\n",
      "+-----------+----+-----------------------------------------------+\n",
      "only showing top 20 rows\n",
      "\n",
      "+--------------------+----+----+----------------+----+------------+\n",
      "|              Entity|Code|Year|        AgeGroup| _c4|Death_Counts|\n",
      "+--------------------+----+----+----------------+----+------------+\n",
      "|         Afghanistan| AFG|2000|Age: 28-364 days|null|       47666|\n",
      "|         Afghanistan| AFG|2001|Age: 28-364 days|null|       47102|\n",
      "|         Afghanistan| AFG|2002|Age: 28-364 days|null|       47126|\n",
      "|         Afghanistan| AFG|2003|Age: 28-364 days|null|       46204|\n",
      "|         Afghanistan| AFG|2004|Age: 28-364 days|null|       45106|\n",
      "|         Afghanistan| AFG|2005|Age: 28-364 days|null|       43768|\n",
      "|         Afghanistan| AFG|2006|Age: 28-364 days|null|       41967|\n",
      "|         Afghanistan| AFG|2007|Age: 28-364 days|null|       39903|\n",
      "|         Afghanistan| AFG|2008|Age: 28-364 days|null|       38488|\n",
      "|         Afghanistan| AFG|2009|Age: 28-364 days|null|       37114|\n",
      "|         Afghanistan| AFG|2010|Age: 28-364 days|null|       36001|\n",
      "|         Afghanistan| AFG|2011|Age: 28-364 days|null|       35108|\n",
      "|         Afghanistan| AFG|2012|Age: 28-364 days|null|       34270|\n",
      "|         Afghanistan| AFG|2013|Age: 28-364 days|null|       33482|\n",
      "|         Afghanistan| AFG|2014|Age: 28-364 days|null|       32719|\n",
      "|         Afghanistan| AFG|2015|Age: 28-364 days|null|       31769|\n",
      "|African Region (WHO)|null|2000|Age: 28-364 days|null|     1233869|\n",
      "|African Region (WHO)|null|2001|Age: 28-364 days|null|     1225719|\n",
      "|African Region (WHO)|null|2002|Age: 28-364 days|null|     1210975|\n",
      "|African Region (WHO)|null|2003|Age: 28-364 days|null|     1195190|\n",
      "+--------------------+----+----+----------------+----+------------+\n",
      "only showing top 20 rows\n",
      "\n"
     ]
    }
   ],
   "source": [
    "LifeData.show()\n",
    "GenderData.show()\n",
    "MRData.show()\n",
    "AgeData.show()"
   ]
  },
  {
   "cell_type": "code",
   "execution_count": 71,
   "id": "7491c6d9",
   "metadata": {},
   "outputs": [],
   "source": [
    "\n",
    "columns_to_drop = ['Adult_Mortality', 'Alcohol', 'HepatitisB', 'Measles', 'BMI', 'Polio', 'Total_expenditure',\n",
    "                   'Diphtheria', 'HIV_AIDS', 'Income_composition_of_resources', 'thinness_1_19_years',\n",
    "                   'infant_deaths', 'thinness_5_9_years','thinness_1-19_years','thinness_5-9_years', 'percentage_expenditure']\n",
    "\n",
    "\n",
    "LifeData = LifeData.drop(*columns_to_drop)\n"
   ]
  },
  {
   "cell_type": "code",
   "execution_count": 72,
   "id": "2bf3d6c6",
   "metadata": {},
   "outputs": [
    {
     "name": "stdout",
     "output_type": "stream",
     "text": [
      "+-----------+----+----------+-----------+-----------------+-----------+-----------+---------+\n",
      "|    Country|Year|    Status|Life_expect|under_five_deaths|        GDP| Population|Schooling|\n",
      "+-----------+----+----------+-----------+-----------------+-----------+-----------+---------+\n",
      "|Afghanistan|2015|Developing|       65.0|               83|  584.25921|3.3736494E7|     10.1|\n",
      "|Afghanistan|2014|Developing|       59.9|               86| 612.696514|   327582.0|     10.0|\n",
      "|Afghanistan|2013|Developing|       59.9|               89| 631.744976|3.1731688E7|      9.9|\n",
      "|Afghanistan|2012|Developing|       59.5|               93|    669.959|  3696958.0|      9.8|\n",
      "|Afghanistan|2011|Developing|       59.2|               97|  63.537231|  2978599.0|      9.5|\n",
      "|Afghanistan|2010|Developing|       58.8|              102|  553.32894|  2883167.0|      9.2|\n",
      "|Afghanistan|2009|Developing|       58.6|              106|445.8932979|   284331.0|      8.9|\n",
      "|Afghanistan|2008|Developing|       58.1|              110|373.3611163|  2729431.0|      8.7|\n",
      "|Afghanistan|2007|Developing|       57.5|              113| 369.835796|2.6616792E7|      8.4|\n",
      "|Afghanistan|2006|Developing|       57.3|              116|  272.56377|  2589345.0|      8.1|\n",
      "|Afghanistan|2005|Developing|       57.3|              118| 25.2941299|   257798.0|      7.9|\n",
      "|Afghanistan|2004|Developing|       57.0|              120|219.1413528|2.4118979E7|      6.8|\n",
      "|Afghanistan|2003|Developing|       56.7|              122|198.7285436|  2364851.0|      6.5|\n",
      "|Afghanistan|2002|Developing|       56.2|              122|  187.84595|2.1979923E7|      6.2|\n",
      "|Afghanistan|2001|Developing|       55.3|              122|  117.49698|  2966463.0|      5.9|\n",
      "|Afghanistan|2000|Developing|       54.8|              122|     114.56|   293756.0|      5.5|\n",
      "|    Albania|2015|Developing|       77.8|                0| 3954.22783|    28873.0|     14.2|\n",
      "|    Albania|2014|Developing|       77.5|                1|4575.763787|   288914.0|     14.2|\n",
      "|    Albania|2013|Developing|       77.2|                1| 4414.72314|   289592.0|     14.2|\n",
      "|    Albania|2012|Developing|       76.9|                1| 4247.61438|     2941.0|     14.2|\n",
      "+-----------+----+----------+-----------+-----------------+-----------+-----------+---------+\n",
      "only showing top 20 rows\n",
      "\n"
     ]
    }
   ],
   "source": [
    "LifeData.show()"
   ]
  },
  {
   "cell_type": "code",
   "execution_count": 73,
   "id": "8d59e840",
   "metadata": {},
   "outputs": [],
   "source": [
    "\n",
    "AgeData = AgeData.drop('_c4')\n",
    "AgeData = AgeData.drop('Code')\n"
   ]
  },
  {
   "cell_type": "code",
   "execution_count": 74,
   "id": "723d8d13",
   "metadata": {},
   "outputs": [
    {
     "name": "stdout",
     "output_type": "stream",
     "text": [
      "+--------------------+----+----------------+------------+\n",
      "|              Entity|Year|        AgeGroup|Death_Counts|\n",
      "+--------------------+----+----------------+------------+\n",
      "|         Afghanistan|2000|Age: 28-364 days|       47666|\n",
      "|         Afghanistan|2001|Age: 28-364 days|       47102|\n",
      "|         Afghanistan|2002|Age: 28-364 days|       47126|\n",
      "|         Afghanistan|2003|Age: 28-364 days|       46204|\n",
      "|         Afghanistan|2004|Age: 28-364 days|       45106|\n",
      "|         Afghanistan|2005|Age: 28-364 days|       43768|\n",
      "|         Afghanistan|2006|Age: 28-364 days|       41967|\n",
      "|         Afghanistan|2007|Age: 28-364 days|       39903|\n",
      "|         Afghanistan|2008|Age: 28-364 days|       38488|\n",
      "|         Afghanistan|2009|Age: 28-364 days|       37114|\n",
      "|         Afghanistan|2010|Age: 28-364 days|       36001|\n",
      "|         Afghanistan|2011|Age: 28-364 days|       35108|\n",
      "|         Afghanistan|2012|Age: 28-364 days|       34270|\n",
      "|         Afghanistan|2013|Age: 28-364 days|       33482|\n",
      "|         Afghanistan|2014|Age: 28-364 days|       32719|\n",
      "|         Afghanistan|2015|Age: 28-364 days|       31769|\n",
      "|African Region (WHO)|2000|Age: 28-364 days|     1233869|\n",
      "|African Region (WHO)|2001|Age: 28-364 days|     1225719|\n",
      "|African Region (WHO)|2002|Age: 28-364 days|     1210975|\n",
      "|African Region (WHO)|2003|Age: 28-364 days|     1195190|\n",
      "+--------------------+----+----------------+------------+\n",
      "only showing top 20 rows\n",
      "\n"
     ]
    }
   ],
   "source": [
    "\n",
    "AgeData.show()"
   ]
  },
  {
   "cell_type": "code",
   "execution_count": 75,
   "id": "5a20275a",
   "metadata": {},
   "outputs": [],
   "source": [
    "# For U5MR_gender\n",
    "\n",
    "\n",
    "GenderData = GenderData.drop('Total Population')\n",
    "GenderData = GenderData.drop('Mortality Rate')\n",
    "GenderData = GenderData.drop('Number')\n"
   ]
  },
  {
   "cell_type": "code",
   "execution_count": 76,
   "id": "6658a798",
   "metadata": {},
   "outputs": [
    {
     "name": "stdout",
     "output_type": "stream",
     "text": [
      "+-----------+----+------+-----------------------+\n",
      "|    Country|Year|Gender|Child Mortality(1 to 4)|\n",
      "+-----------+----+------+-----------------------+\n",
      "|Afghanistan|2000|Female|                  17589|\n",
      "|Afghanistan|2001|Female|                  17524|\n",
      "|Afghanistan|2002|Female|                  17333|\n",
      "|Afghanistan|2003|Female|                  17038|\n",
      "|Afghanistan|2004|Female|                  16680|\n",
      "|Afghanistan|2005|Female|                  16206|\n",
      "|Afghanistan|2006|Female|                  15701|\n",
      "|Afghanistan|2007|Female|                  15136|\n",
      "|Afghanistan|2008|Female|                  14514|\n",
      "|Afghanistan|2009|Female|                  13849|\n",
      "|Afghanistan|2010|Female|                  13190|\n",
      "|Afghanistan|2011|Female|                  12523|\n",
      "|Afghanistan|2012|Female|                  11796|\n",
      "|Afghanistan|2013|Female|                  11108|\n",
      "|Afghanistan|2014|Female|                  10436|\n",
      "|Afghanistan|2015|Female|                   9795|\n",
      "|Afghanistan|2000|  Male|                  17787|\n",
      "|Afghanistan|2001|  Male|                  17777|\n",
      "|Afghanistan|2002|  Male|                  17650|\n",
      "|Afghanistan|2003|  Male|                  17414|\n",
      "+-----------+----+------+-----------------------+\n",
      "only showing top 20 rows\n",
      "\n"
     ]
    }
   ],
   "source": [
    "GenderData.show()"
   ]
  },
  {
   "cell_type": "code",
   "execution_count": 77,
   "id": "602bb6b7",
   "metadata": {},
   "outputs": [
    {
     "name": "stdout",
     "output_type": "stream",
     "text": [
      "+-------+----+------+-----------+-----------------+---+----------+---------+\n",
      "|Country|Year|Status|Life_expect|under_five_deaths|GDP|Population|Schooling|\n",
      "+-------+----+------+-----------+-----------------+---+----------+---------+\n",
      "|      0|   0|     0|         10|                0|448|       652|      163|\n",
      "+-------+----+------+-----------+-----------------+---+----------+---------+\n",
      "\n"
     ]
    }
   ],
   "source": [
    "\n",
    "# 3.2 clean data\n",
    "\n",
    "LifeData.select([count(when(col(c).isNull() | isnan(c), c)).alias(c) for c in LifeData.columns]).show()\n"
   ]
  },
  {
   "cell_type": "code",
   "execution_count": 78,
   "id": "b8ed03e5",
   "metadata": {},
   "outputs": [],
   "source": [
    "LifeData = LifeData.drop('Schooling')"
   ]
  },
  {
   "cell_type": "code",
   "execution_count": 79,
   "id": "ca5db186",
   "metadata": {},
   "outputs": [
    {
     "name": "stdout",
     "output_type": "stream",
     "text": [
      "+-------+-----------+------------------+----------+-----------------+-----------------+------------------+--------------------+\n",
      "|summary|    Country|              Year|    Status|      Life_expect|under_five_deaths|               GDP|          Population|\n",
      "+-------+-----------+------------------+----------+-----------------+-----------------+------------------+--------------------+\n",
      "|  count|       2938|              2938|      2938|             2928|             2938|              2490|                2286|\n",
      "|   mean|       null|2007.5187202178352|      null|69.22493169398912| 42.0357385976855| 7483.158469138481|1.2753375120052498E7|\n",
      "| stddev|       null| 4.613840940258099|      null|9.523867487824305|160.4455484057337|14270.169341515959| 6.101209650842794E7|\n",
      "|    min|Afghanistan|              2000| Developed|             36.3|                0|           1.68135|                34.0|\n",
      "|    max|   Zimbabwe|              2015|Developing|             89.0|             2500|       119172.7418|       1.293859294E9|\n",
      "+-------+-----------+------------------+----------+-----------------+-----------------+------------------+--------------------+\n",
      "\n",
      "+-------+----+------+-----------+-----------------+---+----------+\n",
      "|Country|Year|Status|Life_expect|under_five_deaths|GDP|Population|\n",
      "+-------+----+------+-----------+-----------------+---+----------+\n",
      "|      0|   0|     0|         10|                0|448|       652|\n",
      "+-------+----+------+-----------+-----------------+---+----------+\n",
      "\n"
     ]
    }
   ],
   "source": [
    "# check distribution\n",
    "LifeData.describe().show()\n",
    "\n",
    "# Check for remaining null values\n",
    "LifeData.select([count(when(col(c).isNull(), c)).alias(c) for c in LifeData.columns]).show()"
   ]
  },
  {
   "cell_type": "code",
   "execution_count": 80,
   "id": "ffe32c47-3944-4339-8fa5-664ef68274d8",
   "metadata": {},
   "outputs": [
    {
     "name": "stdout",
     "output_type": "stream",
     "text": [
      "+-------+----+------+-----------+-----------------+---+----------+\n",
      "|Country|Year|Status|Life_expect|under_five_deaths|GDP|Population|\n",
      "+-------+----+------+-----------+-----------------+---+----------+\n",
      "|      0|   0|     0|         10|                0|448|       652|\n",
      "+-------+----+------+-----------+-----------------+---+----------+\n",
      "\n"
     ]
    }
   ],
   "source": [
    "from pyspark.sql import Window\n",
    "from pyspark.sql.functions import col, lag, lead, when\n",
    "\n",
    "\n",
    "LifeData = LifeData.orderBy([\"Country\", \"Year\"])\n",
    "\n",
    "\n",
    "def linear_interpolate(df, column):\n",
    "    window_spec = Window.partitionBy(\"Country\").orderBy(\"Year\")\n",
    "    \n",
    "\n",
    "    lag_col = lag(column).over(window_spec)\n",
    "    lead_col = lead(column).over(window_spec)\n",
    "    \n",
    "\n",
    "    interp_col = (lag_col + lead_col) / 2\n",
    "    \n",
    "\n",
    "    df = df.withColumn(column, when(col(column).isNull(), interp_col).otherwise(col(column)))\n",
    "    return df\n",
    "\n",
    "LifeData = linear_interpolate(LifeData, \"Life_expect\")\n",
    "LifeData = linear_interpolate(LifeData, \"GDP\")\n",
    "LifeData = linear_interpolate(LifeData, \"Population\")\n",
    "\n",
    "\n",
    "LifeData.select([count(when(col(c).isNull(), c)).alias(c) for c in LifeData.columns]).show()\n"
   ]
  },
  {
   "cell_type": "code",
   "execution_count": 81,
   "id": "5c53b98c-0138-4713-971f-3ebfa3d77de8",
   "metadata": {},
   "outputs": [
    {
     "name": "stdout",
     "output_type": "stream",
     "text": [
      "+-------+----+------+-----------+-----------------+---+----------+\n",
      "|Country|Year|Status|Life_expect|under_five_deaths|GDP|Population|\n",
      "+-------+----+------+-----------+-----------------+---+----------+\n",
      "|      0|   0|     0|         10|                0|405|       648|\n",
      "+-------+----+------+-----------+-----------------+---+----------+\n",
      "\n"
     ]
    }
   ],
   "source": [
    "from pyspark.sql.functions import last\n",
    "\n",
    "\n",
    "def forward_fill(df, column):\n",
    "    window_spec = Window.partitionBy(\"Country\").orderBy(\"Year\").rowsBetween(Window.unboundedPreceding, 0)\n",
    "    filled_col = last(column, ignorenulls=True).over(window_spec)\n",
    "    df = df.withColumn(column, when(col(column).isNull(), filled_col).otherwise(col(column)))\n",
    "    return df\n",
    "\n",
    "\n",
    "LifeData = forward_fill(LifeData, \"Life_expect\")\n",
    "LifeData = forward_fill(LifeData, \"GDP\")\n",
    "LifeData = forward_fill(LifeData, \"Population\")\n",
    "\n",
    "\n",
    "def backward_fill(df, column):\n",
    "    window_spec = Window.partitionBy(\"Country\").orderBy(\"Year\").rowsBetween(0, Window.unboundedFollowing)\n",
    "    filled_col = last(column, ignorenulls=True).over(window_spec)\n",
    "    df = df.withColumn(column, when(col(column).isNull(), filled_col).otherwise(col(column)))\n",
    "    return df\n",
    "\n",
    "\n",
    "LifeData = backward_fill(LifeData, \"Life_expect\")\n",
    "LifeData = backward_fill(LifeData, \"GDP\")\n",
    "LifeData = backward_fill(LifeData, \"Population\")\n",
    "\n",
    "\n",
    "LifeData.select([count(when(col(c).isNull(), c)).alias(c) for c in LifeData.columns]).show()\n"
   ]
  },
  {
   "cell_type": "code",
   "execution_count": 82,
   "id": "e0b8e8a2-de82-4e15-a97e-6d72859365b1",
   "metadata": {},
   "outputs": [
    {
     "name": "stdout",
     "output_type": "stream",
     "text": [
      "+-------+----+------+-----------+-----------------+---+----------+\n",
      "|Country|Year|Status|Life_expect|under_five_deaths|GDP|Population|\n",
      "+-------+----+------+-----------+-----------------+---+----------+\n",
      "|      0|   0|     0|          0|                0|  0|         0|\n",
      "+-------+----+------+-----------+-----------------+---+----------+\n",
      "\n"
     ]
    }
   ],
   "source": [
    "from pyspark.sql.functions import mean\n",
    "\n",
    "\n",
    "def fill_with_mean(df, column):\n",
    "    mean_value = df.select(mean(col(column))).first()[0]\n",
    "    df = df.fillna({column: mean_value})\n",
    "    return df\n",
    "\n",
    "\n",
    "LifeData = fill_with_mean(LifeData, \"Life_expect\")\n",
    "LifeData = fill_with_mean(LifeData, \"GDP\")\n",
    "LifeData = fill_with_mean(LifeData, \"Population\")\n",
    "\n",
    "\n",
    "LifeData.select([count(when(col(c).isNull(), c)).alias(c) for c in LifeData.columns]).show()\n"
   ]
  },
  {
   "cell_type": "code",
   "execution_count": 83,
   "id": "88d33f0a-980d-4a97-9f78-e645660f0d13",
   "metadata": {},
   "outputs": [
    {
     "name": "stdout",
     "output_type": "stream",
     "text": [
      "+------+----+-----------------------------------------------+\n",
      "|Entity|Year|Mortality rate, under-5 (per 1,000 live births)|\n",
      "+------+----+-----------------------------------------------+\n",
      "|     0|   0|                                              0|\n",
      "+------+----+-----------------------------------------------+\n",
      "\n"
     ]
    }
   ],
   "source": [
    "MRData.select([count(when(col(c).isNull(), c)).alias(c) for c in MRData.columns]).show()"
   ]
  },
  {
   "cell_type": "code",
   "execution_count": 84,
   "id": "f4efbf57-56a8-47ea-b701-dce1e930bb9e",
   "metadata": {},
   "outputs": [
    {
     "name": "stdout",
     "output_type": "stream",
     "text": [
      "+-------+----+------+-----------------------+\n",
      "|Country|Year|Gender|Child Mortality(1 to 4)|\n",
      "+-------+----+------+-----------------------+\n",
      "|      0|   0|     0|                      0|\n",
      "+-------+----+------+-----------------------+\n",
      "\n"
     ]
    }
   ],
   "source": [
    "GenderData.select([count(when(col(c).isNull(), c)).alias(c) for c in GenderData.columns]).show()"
   ]
  },
  {
   "cell_type": "code",
   "execution_count": 85,
   "id": "1fc4a587-0edf-4c4f-9f8e-e9c50f2f3f34",
   "metadata": {},
   "outputs": [
    {
     "name": "stdout",
     "output_type": "stream",
     "text": [
      "+------+----+--------+------------+\n",
      "|Entity|Year|AgeGroup|Death_Counts|\n",
      "+------+----+--------+------------+\n",
      "|     0|   0|       0|           0|\n",
      "+------+----+--------+------------+\n",
      "\n"
     ]
    }
   ],
   "source": [
    "AgeData.select([count(when(col(c).isNull(), c)).alias(c) for c in AgeData.columns]).show()"
   ]
  },
  {
   "cell_type": "code",
   "execution_count": 86,
   "id": "0a67aef8-50b6-49e9-9ab2-70c1980235eb",
   "metadata": {},
   "outputs": [],
   "source": [
    "# 3.3 Construct the data\n",
    "\n",
    "# Renaming columns\n",
    "AgeData = AgeData.withColumnRenamed('Entity', 'Country')\n",
    "MRData = MRData.withColumnRenamed('Entity', 'Country')\n",
    "MRData= MRData.withColumnRenamed('Mortality rate, under-5 (per 1,000 live births)', 'Mortality rate')\n"
   ]
  },
  {
   "cell_type": "code",
   "execution_count": 87,
   "id": "71b29398-43ea-4e1e-81cf-273c68c82284",
   "metadata": {},
   "outputs": [
    {
     "name": "stdout",
     "output_type": "stream",
     "text": [
      "root\n",
      " |-- Country: string (nullable = true)\n",
      " |-- Year: integer (nullable = true)\n",
      " |-- Status: string (nullable = true)\n",
      " |-- Life_expect: double (nullable = false)\n",
      " |-- under_five_deaths: integer (nullable = true)\n",
      " |-- GDP: double (nullable = false)\n",
      " |-- Population: double (nullable = false)\n",
      " |-- AgeGroup: string (nullable = true)\n",
      " |-- Death_Counts: integer (nullable = true)\n",
      " |-- Gender: string (nullable = true)\n",
      " |-- Child Mortality(1 to 4): long (nullable = true)\n",
      " |-- Mortality rate: double (nullable = true)\n",
      "\n"
     ]
    }
   ],
   "source": [
    "merged_df = LifeData.join(AgeData, on=['Country', 'Year'], how='inner')\\\n",
    "                    .join(GenderData, on=['Country', 'Year'], how='inner')\\\n",
    "                    .join(MRData, on=['Country', 'Year'], how='inner')\n",
    "merged_df.printSchema()\n"
   ]
  },
  {
   "cell_type": "code",
   "execution_count": 88,
   "id": "bf5b3cb8-50e3-458d-9640-a144829fb898",
   "metadata": {},
   "outputs": [
    {
     "name": "stdout",
     "output_type": "stream",
     "text": [
      "+-----------+----+----------+-----------+-----------------+-----------+-----------+----------------+------------+------+-----------------------+----------------+\n",
      "|    Country|Year|    Status|Life_expect|under_five_deaths|        GDP| Population|        AgeGroup|Death_Counts|Gender|Child Mortality(1 to 4)|  Mortality rate|\n",
      "+-----------+----+----------+-----------+-----------------+-----------+-----------+----------------+------------+------+-----------------------+----------------+\n",
      "|Afghanistan|2000|Developing|       54.8|              122|     114.56|   293756.0|Age: 28-364 days|       47666| Total|                  35376|12.9199996948242|\n",
      "|Afghanistan|2000|Developing|       54.8|              122|     114.56|   293756.0|Age: 28-364 days|       47666|  Male|                  17787|12.9199996948242|\n",
      "|Afghanistan|2000|Developing|       54.8|              122|     114.56|   293756.0|Age: 28-364 days|       47666|Female|                  17589|12.9199996948242|\n",
      "|Afghanistan|2001|Developing|       55.3|              122|  117.49698|  2966463.0|Age: 28-364 days|       47102| Total|                  35301|12.5199996948242|\n",
      "|Afghanistan|2001|Developing|       55.3|              122|  117.49698|  2966463.0|Age: 28-364 days|       47102|  Male|                  17777|12.5199996948242|\n",
      "|Afghanistan|2001|Developing|       55.3|              122|  117.49698|  2966463.0|Age: 28-364 days|       47102|Female|                  17524|12.5199996948242|\n",
      "|Afghanistan|2002|Developing|       56.2|              122|  187.84595|2.1979923E7|Age: 28-364 days|       47126| Total|                  34983|12.1099998474121|\n",
      "|Afghanistan|2002|Developing|       56.2|              122|  187.84595|2.1979923E7|Age: 28-364 days|       47126|  Male|                  17650|12.1099998474121|\n",
      "|Afghanistan|2002|Developing|       56.2|              122|  187.84595|2.1979923E7|Age: 28-364 days|       47126|Female|                  17333|12.1099998474121|\n",
      "|Afghanistan|2003|Developing|       56.7|              122|198.7285436|  2364851.0|Age: 28-364 days|       46204| Total|                  34452|11.6900001525878|\n",
      "|Afghanistan|2003|Developing|       56.7|              122|198.7285436|  2364851.0|Age: 28-364 days|       46204|  Male|                  17414|11.6900001525878|\n",
      "|Afghanistan|2003|Developing|       56.7|              122|198.7285436|  2364851.0|Age: 28-364 days|       46204|Female|                  17038|11.6900001525878|\n",
      "|Afghanistan|2004|Developing|       57.0|              120|219.1413528|2.4118979E7|Age: 28-364 days|       45106| Total|                  33721|11.2599998474121|\n",
      "|Afghanistan|2004|Developing|       57.0|              120|219.1413528|2.4118979E7|Age: 28-364 days|       45106|  Male|                  17041|11.2599998474121|\n",
      "|Afghanistan|2004|Developing|       57.0|              120|219.1413528|2.4118979E7|Age: 28-364 days|       45106|Female|                  16680|11.2599998474121|\n",
      "|Afghanistan|2005|Developing|       57.3|              118| 25.2941299|   257798.0|Age: 28-364 days|       43768| Total|                  32842|10.8400001525878|\n",
      "|Afghanistan|2005|Developing|       57.3|              118| 25.2941299|   257798.0|Age: 28-364 days|       43768|  Male|                  16636|10.8400001525878|\n",
      "|Afghanistan|2005|Developing|       57.3|              118| 25.2941299|   257798.0|Age: 28-364 days|       43768|Female|                  16206|10.8400001525878|\n",
      "|Afghanistan|2006|Developing|       57.3|              116|  272.56377|  2589345.0|Age: 28-364 days|       41967| Total|                  31828|10.4099998474121|\n",
      "|Afghanistan|2006|Developing|       57.3|              116|  272.56377|  2589345.0|Age: 28-364 days|       41967|  Male|                  16127|10.4099998474121|\n",
      "+-----------+----+----------+-----------+-----------------+-----------+-----------+----------------+------------+------+-----------------------+----------------+\n",
      "only showing top 20 rows\n",
      "\n"
     ]
    }
   ],
   "source": [
    "merged_df.show()"
   ]
  },
  {
   "cell_type": "code",
   "execution_count": 89,
   "id": "fdc6c3db-0760-4a54-b1b9-9ee1cbf021b2",
   "metadata": {},
   "outputs": [
    {
     "name": "stdout",
     "output_type": "stream",
     "text": [
      "+-------+----+------+-----------+-----------------+---+----------+--------+------------+------+-----------------------+--------------+\n",
      "|Country|Year|Status|Life_expect|under_five_deaths|GDP|Population|AgeGroup|Death_Counts|Gender|Child Mortality(1 to 4)|Mortality rate|\n",
      "+-------+----+------+-----------+-----------------+---+----------+--------+------------+------+-----------------------+--------------+\n",
      "|      0|   0|     0|          0|                0|  0|         0|       0|           0|     0|                      0|             0|\n",
      "+-------+----+------+-----------+-----------------+---+----------+--------+------------+------+-----------------------+--------------+\n",
      "\n"
     ]
    }
   ],
   "source": [
    "from pyspark.sql.functions import col, sum as _sum\n",
    "\n",
    "# check null value\n",
    "merged_df.select([count(when(col(c).isNull(), c)).alias(c) for c in merged_df.columns]).show()"
   ]
  },
  {
   "cell_type": "code",
   "execution_count": 90,
   "id": "475038d0-9430-4ae3-97b3-ca49383380e9",
   "metadata": {},
   "outputs": [
    {
     "name": "stdout",
     "output_type": "stream",
     "text": [
      "+-------+----+------+-----------+-----------------+---+----------+--------+------------+------+-----------------------+--------------+\n",
      "|Country|Year|Status|Life_expect|under_five_deaths|GDP|Population|AgeGroup|Death_Counts|Gender|Child Mortality(1 to 4)|Mortality rate|\n",
      "+-------+----+------+-----------+-----------------+---+----------+--------+------------+------+-----------------------+--------------+\n",
      "|      0|   0|     0|          0|                0|  0|         0|       0|           0|     0|                      0|             0|\n",
      "+-------+----+------+-----------+-----------------+---+----------+--------+------------+------+-----------------------+--------------+\n",
      "\n"
     ]
    }
   ],
   "source": [
    "from pyspark.sql.functions import col, sum as _sum\n",
    "\n",
    "# Drop the specified column\n",
    "merged_df = merged_df.drop('Schooling')\n",
    "\n",
    "# Count the number of nulls in each column\n",
    "merged_df.select([_sum(col(c).isNull().cast(\"int\")).alias(c) for c in merged_df.columns]).show()\n",
    "\n"
   ]
  },
  {
   "cell_type": "code",
   "execution_count": 91,
   "id": "80233fd0-8593-4ad0-bff1-17dfa958a5b5",
   "metadata": {},
   "outputs": [],
   "source": [
    "merged_df = merged_df.na.drop()"
   ]
  },
  {
   "cell_type": "code",
   "execution_count": 92,
   "id": "4bcdb0ee-70c1-4c09-99af-24038eb1c162",
   "metadata": {},
   "outputs": [
    {
     "name": "stderr",
     "output_type": "stream",
     "text": [
      "                                                                                \r"
     ]
    },
    {
     "name": "stdout",
     "output_type": "stream",
     "text": [
      "+-------+-----------+------------------+----------+-----------------+-----------------+-----------------+-------------------+-------------+------------------+------+-----------------------+-----------------+\n",
      "|summary|    Country|              Year|    Status|      Life_expect|under_five_deaths|              GDP|         Population|     AgeGroup|      Death_Counts|Gender|Child Mortality(1 to 4)|   Mortality rate|\n",
      "+-------+-----------+------------------+----------+-----------------+-----------------+-----------------+-------------------+-------------+------------------+------+-----------------------+-----------------+\n",
      "|  count|      30816|             30816|     30816|            30816|            30816|            30816|              30816|        30816|             30816| 30816|                  30816|            30816|\n",
      "|   mean|       null|2007.5171339563863|      null|69.36251276747909|42.67497403946002|7454.754922328273|1.271093738308978E7|         null|10863.315939771548|  null|      7887.559319833853|4.311564118078511|\n",
      "| stddev|       null| 4.612855331600154|      null|9.543921129731913|169.4517657327468|13860.37525568851|5.715405126089856E7|         null| 45549.94116971235|  null|     33219.526623232865|4.523064810001454|\n",
      "|    min|Afghanistan|              2000| Developed|             36.3|                0|          1.68135|               34.0|Age: 0-6 days|                 0|Female|                      0|0.229999995231628|\n",
      "|    max|   Zimbabwe|              2015|Developing|             89.0|             2500|      119172.7418|      1.293859294E9| Age:7-27Days|            812914| Total|                 691689| 22.4899993896484|\n",
      "+-------+-----------+------------------+----------+-----------------+-----------------+-----------------+-------------------+-------------+------------------+------+-----------------------+-----------------+\n",
      "\n"
     ]
    },
    {
     "name": "stderr",
     "output_type": "stream",
     "text": [
      "\r",
      "[Stage 425:>                                                        (0 + 2) / 2]\r",
      "\r",
      "                                                                                \r"
     ]
    },
    {
     "name": "stdout",
     "output_type": "stream",
     "text": [
      "+-------+----+------+-----------+-----------------+---+----------+--------+------------+------+-----------------------+--------------+\n",
      "|Country|Year|Status|Life_expect|under_five_deaths|GDP|Population|AgeGroup|Death_Counts|Gender|Child Mortality(1 to 4)|Mortality rate|\n",
      "+-------+----+------+-----------+-----------------+---+----------+--------+------------+------+-----------------------+--------------+\n",
      "|      0|   0|     0|          0|                0|  0|         0|       0|           0|     0|                      0|             0|\n",
      "+-------+----+------+-----------+-----------------+---+----------+--------+------------+------+-----------------------+--------------+\n",
      "\n"
     ]
    }
   ],
   "source": [
    "merged_df.describe().show()\n",
    "merged_df.select([count(when(col(c).isNull(), c)).alias(c) for c in merged_df.columns]).show()"
   ]
  },
  {
   "cell_type": "code",
   "execution_count": 93,
   "id": "a78dbd29-151f-49c4-b6ba-f2c10b7130a9",
   "metadata": {},
   "outputs": [],
   "source": [
    "from pyspark.sql.functions import col, log, when, avg, count, lit\n",
    "from pyspark.sql import Window\n",
    "\n"
   ]
  },
  {
   "cell_type": "code",
   "execution_count": null,
   "id": "bb939e53-a644-4982-88c5-d782cd08057a",
   "metadata": {},
   "outputs": [],
   "source": []
  },
  {
   "cell_type": "code",
   "execution_count": 94,
   "id": "958cd874-b6dd-4a82-b939-b364fbff9203",
   "metadata": {},
   "outputs": [
    {
     "data": {
      "text/plain": [
       "<bound method DataFrame.printSchema of DataFrame[Country: string, Year: int, Status: string, Life_expect: double, under_five_deaths: int, GDP: double, Population: double, AgeGroup: string, Death_Counts: int, Gender: string, Child Mortality(1 to 4): bigint, Mortality rate: double]>"
      ]
     },
     "execution_count": 94,
     "metadata": {},
     "output_type": "execute_result"
    }
   ],
   "source": [
    "\n",
    "merged_df.printSchema"
   ]
  },
  {
   "cell_type": "code",
   "execution_count": 95,
   "id": "58c14382-87a3-480c-98e0-6cabc3d8bbfb",
   "metadata": {},
   "outputs": [],
   "source": [
    "\n",
    "merged_df = merged_df.withColumn(\"Gender\", \n",
    "                   when(col(\"Gender\") == \"Male\", 0)\n",
    "                   .when(col(\"Gender\") == \"Female\", 1)\n",
    "                   .when(col(\"Gender\") == \"Total\", 2)\n",
    "                   .otherwise(None))\n"
   ]
  },
  {
   "cell_type": "code",
   "execution_count": 96,
   "id": "36a90ad0-9a51-4187-8385-65cf1ffbeeab",
   "metadata": {},
   "outputs": [],
   "source": [
    "\n",
    "merged_df = merged_df.withColumn(\"Status\", \n",
    "                   when(col(\"Status\") == \"Developed\", 1)\n",
    "                   .when(col(\"Status\") == \"Developing\", 0)\n",
    "                   .otherwise(None))\n"
   ]
  },
  {
   "cell_type": "code",
   "execution_count": 97,
   "id": "6133e4d3-eca4-47da-ba4a-19e2efe2ec90",
   "metadata": {},
   "outputs": [],
   "source": [
    "\n",
    "merged_df = merged_df.withColumn(\"AgeGroup\",\n",
    "                   when(col(\"AgeGroup\") == \"Age: 0-6 days\", 0)\n",
    "                   .when(col(\"AgeGroup\") == \"Age:7-27Days\", 1)\n",
    "                   .when(col(\"AgeGroup\") == \"Age: 28-364 days\", 2)\n",
    "                   .when(col(\"AgeGroup\") == \"Age: 1-4 years\", 3)\n",
    "                   .otherwise(None))\n"
   ]
  },
  {
   "cell_type": "code",
   "execution_count": 98,
   "id": "85c63f9d-32a4-408f-8f0c-d5e9677ae1c0",
   "metadata": {},
   "outputs": [
    {
     "name": "stderr",
     "output_type": "stream",
     "text": [
      "\r",
      "[Stage 441:============================>                            (1 + 1) / 2]\r",
      "\r",
      "                                                                                \r"
     ]
    },
    {
     "name": "stdout",
     "output_type": "stream",
     "text": [
      "+-----------+----+------+-----------+-----------------+-----------+-----------+--------+------------+------+-----------------------+----------------+\n",
      "|    Country|Year|Status|Life_expect|under_five_deaths|        GDP| Population|AgeGroup|Death_Counts|Gender|Child Mortality(1 to 4)|  Mortality rate|\n",
      "+-----------+----+------+-----------+-----------------+-----------+-----------+--------+------------+------+-----------------------+----------------+\n",
      "|Afghanistan|2000|     0|       54.8|              122|     114.56|   293756.0|       2|       47666|     2|                  35376|12.9199996948242|\n",
      "|Afghanistan|2000|     0|       54.8|              122|     114.56|   293756.0|       2|       47666|     0|                  17787|12.9199996948242|\n",
      "|Afghanistan|2000|     0|       54.8|              122|     114.56|   293756.0|       2|       47666|     1|                  17589|12.9199996948242|\n",
      "|Afghanistan|2001|     0|       55.3|              122|  117.49698|  2966463.0|       2|       47102|     2|                  35301|12.5199996948242|\n",
      "|Afghanistan|2001|     0|       55.3|              122|  117.49698|  2966463.0|       2|       47102|     0|                  17777|12.5199996948242|\n",
      "|Afghanistan|2001|     0|       55.3|              122|  117.49698|  2966463.0|       2|       47102|     1|                  17524|12.5199996948242|\n",
      "|Afghanistan|2002|     0|       56.2|              122|  187.84595|2.1979923E7|       2|       47126|     2|                  34983|12.1099998474121|\n",
      "|Afghanistan|2002|     0|       56.2|              122|  187.84595|2.1979923E7|       2|       47126|     0|                  17650|12.1099998474121|\n",
      "|Afghanistan|2002|     0|       56.2|              122|  187.84595|2.1979923E7|       2|       47126|     1|                  17333|12.1099998474121|\n",
      "|Afghanistan|2003|     0|       56.7|              122|198.7285436|  2364851.0|       2|       46204|     2|                  34452|11.6900001525878|\n",
      "+-----------+----+------+-----------+-----------------+-----------+-----------+--------+------------+------+-----------------------+----------------+\n",
      "only showing top 10 rows\n",
      "\n"
     ]
    }
   ],
   "source": [
    "merged_df.show(10)\n"
   ]
  },
  {
   "cell_type": "code",
   "execution_count": 99,
   "id": "a4f02f43-16d7-4ec3-9f7f-6ae7ca1b35d7",
   "metadata": {},
   "outputs": [
    {
     "name": "stdout",
     "output_type": "stream",
     "text": [
      "+------+-----+\n",
      "|Gender|count|\n",
      "+------+-----+\n",
      "|     1|10336|\n",
      "|     2|10144|\n",
      "|     0|10336|\n",
      "+------+-----+\n",
      "\n"
     ]
    },
    {
     "name": "stderr",
     "output_type": "stream",
     "text": [
      "\r",
      "[Stage 471:============================>                            (1 + 1) / 2]\r",
      "\r",
      "                                                                                \r"
     ]
    },
    {
     "name": "stdout",
     "output_type": "stream",
     "text": [
      "+------+-----+\n",
      "|Status|count|\n",
      "+------+-----+\n",
      "|     1| 5632|\n",
      "|     0|25184|\n",
      "+------+-----+\n",
      "\n"
     ]
    },
    {
     "name": "stderr",
     "output_type": "stream",
     "text": [
      "\r",
      "[Stage 487:>                                                        (0 + 2) / 2]\r",
      "\r",
      "                                                                                \r"
     ]
    },
    {
     "name": "stdout",
     "output_type": "stream",
     "text": [
      "+--------+-----+\n",
      "|AgeGroup|count|\n",
      "+--------+-----+\n",
      "|       1| 7704|\n",
      "|       3| 7704|\n",
      "|       2| 7704|\n",
      "|       0| 7704|\n",
      "+--------+-----+\n",
      "\n"
     ]
    }
   ],
   "source": [
    "# Group by 'Gender' column and count the occurrences\n",
    "merged_df.groupBy(\"Gender\").count().show()\n",
    "\n",
    "# Group by 'Status' column and count the occurrences\n",
    "merged_df.groupBy(\"Status\").count().show()\n",
    "\n",
    "# Group by 'AgeGroup' column and count the occurrences\n",
    "merged_df.groupBy(\"AgeGroup\").count().show()"
   ]
  },
  {
   "cell_type": "code",
   "execution_count": 100,
   "id": "985b678b-cc63-479e-9e05-6a16a62e2cb1",
   "metadata": {},
   "outputs": [
    {
     "name": "stdout",
     "output_type": "stream",
     "text": [
      "root\n",
      " |-- Country: string (nullable = true)\n",
      " |-- Year: integer (nullable = true)\n",
      " |-- Status: integer (nullable = true)\n",
      " |-- Life_expect: double (nullable = false)\n",
      " |-- under_five_deaths: integer (nullable = true)\n",
      " |-- GDP: double (nullable = false)\n",
      " |-- Population: double (nullable = false)\n",
      " |-- AgeGroup: integer (nullable = true)\n",
      " |-- Death_Counts: integer (nullable = true)\n",
      " |-- Gender: integer (nullable = true)\n",
      " |-- Child Mortality(1 to 4): long (nullable = true)\n",
      " |-- Mortality rate: double (nullable = true)\n",
      "\n"
     ]
    }
   ],
   "source": [
    "merged_df.printSchema()"
   ]
  },
  {
   "cell_type": "code",
   "execution_count": 101,
   "id": "7b53d17b-2da9-435d-8c5a-82f43b6c560b",
   "metadata": {},
   "outputs": [],
   "source": [
    "# 04-DT\n",
    "\n",
    "# 4.1 Reduce the data\n",
    "\n"
   ]
  },
  {
   "cell_type": "code",
   "execution_count": 102,
   "id": "005185da",
   "metadata": {},
   "outputs": [
    {
     "name": "stderr",
     "output_type": "stream",
     "text": [
      "                                                                                \r"
     ]
    },
    {
     "name": "stdout",
     "output_type": "stream",
     "text": [
      "+----------------+--------------------+\n",
      "|  Mortality rate|   MortalityRate_log|\n",
      "+----------------+--------------------+\n",
      "|12.9199996948242| 0.15036975804140978|\n",
      "|12.9199996948242| 0.15036975804140978|\n",
      "|12.9199996948242| 0.15036975804140978|\n",
      "|12.5199996948242| 0.01575342928383601|\n",
      "|12.5199996948242| 0.01575342928383601|\n",
      "|12.5199996948242| 0.01575342928383601|\n",
      "|12.1099998474121|0.002141752357527...|\n",
      "|12.1099998474121|0.002141752357527...|\n",
      "|12.1099998474121|0.002141752357527...|\n",
      "|11.6900001525878|0.019349393204984158|\n",
      "|11.6900001525878|0.019349393204984158|\n",
      "|11.6900001525878|0.019349393204984158|\n",
      "|11.2599998474121|0.001868398953379...|\n",
      "|11.2599998474121|0.001868398953379...|\n",
      "|11.2599998474121|0.001868398953379...|\n",
      "|10.8400001525878|  0.1568125651604768|\n",
      "|10.8400001525878|  0.1568125651604768|\n",
      "|10.8400001525878|  0.1568125651604768|\n",
      "|10.4099998474121|0.016077633141293596|\n",
      "|10.4099998474121|0.016077633141293596|\n",
      "+----------------+--------------------+\n",
      "only showing top 20 rows\n",
      "\n"
     ]
    }
   ],
   "source": [
    "from pyspark.sql.functions import log\n",
    "\n",
    "merged_df = merged_df.withColumn('MortalityRate', col('Death_Counts') / col('Population'))\n",
    "\n",
    "merged_df = merged_df.withColumn('MortalityRate_log', log(col('MortalityRate') + 1))\n",
    "\n",
    "mortality_rate_median = merged_df.approxQuantile('MortalityRate_log', [0.5], 0.01)[0]\n",
    "\n",
    "merged_df = merged_df.withColumn('Child_Mortality_Risk', when(col('MortalityRate_log') > mortality_rate_median, 1).otherwise(0))\n",
    "\n",
    "# Display the results\n",
    "merged_df.select('Mortality rate', 'MortalityRate_log').show()\n",
    "\n",
    "merged_df = merged_df.drop('Mortality rate')"
   ]
  },
  {
   "cell_type": "code",
   "execution_count": 103,
   "id": "3b28d997",
   "metadata": {},
   "outputs": [
    {
     "name": "stdout",
     "output_type": "stream",
     "text": [
      "root\n",
      " |-- Country: string (nullable = true)\n",
      " |-- Year: integer (nullable = true)\n",
      " |-- Status: integer (nullable = true)\n",
      " |-- Life_expect: double (nullable = false)\n",
      " |-- under_five_deaths: integer (nullable = true)\n",
      " |-- GDP: double (nullable = true)\n",
      " |-- Population: double (nullable = false)\n",
      " |-- AgeGroup: integer (nullable = true)\n",
      " |-- Death_Counts: integer (nullable = true)\n",
      " |-- Gender: integer (nullable = true)\n",
      " |-- Child Mortality(1 to 4): long (nullable = true)\n",
      " |-- MortalityRate: double (nullable = true)\n",
      " |-- MortalityRate_log: double (nullable = true)\n",
      " |-- Child_Mortality_Risk: integer (nullable = false)\n",
      "\n"
     ]
    }
   ],
   "source": [
    "\n",
    "from pyspark.sql.functions import log\n",
    "merged_df = merged_df.withColumn(\"GDP\", log(\"GDP\"))\n",
    "\n",
    "\n",
    "merged_df.printSchema()\n"
   ]
  },
  {
   "cell_type": "code",
   "execution_count": 104,
   "id": "46576c6c",
   "metadata": {},
   "outputs": [
    {
     "name": "stdout",
     "output_type": "stream",
     "text": [
      "root\n",
      " |-- Country: string (nullable = true)\n",
      " |-- Year: integer (nullable = true)\n",
      " |-- Status: integer (nullable = true)\n",
      " |-- GDP: double (nullable = true)\n",
      " |-- Population: double (nullable = false)\n",
      " |-- AgeGroup: integer (nullable = true)\n",
      " |-- Gender: integer (nullable = true)\n",
      " |-- MortalityRate: double (nullable = true)\n",
      " |-- MortalityRate_log: double (nullable = true)\n",
      " |-- Child_Mortality_Risk: integer (nullable = false)\n",
      "\n"
     ]
    }
   ],
   "source": [
    "\n",
    "columns_to_drop = ['Death_Counts','Life_expect','under_five_deaths','Child Mortality(1 to 4)']\n",
    "merged_df = merged_df.drop(*columns_to_drop)\n",
    "merged_df.printSchema()"
   ]
  },
  {
   "cell_type": "code",
   "execution_count": 106,
   "id": "2f5dbcaf",
   "metadata": {},
   "outputs": [],
   "source": [
    "# 06-DMA\n",
    "\n",
    "from pyspark.ml.feature import OneHotEncoder, VectorAssembler, StringIndexer, StandardScaler\n",
    "from pyspark.ml import Pipeline\n",
    "from pyspark.ml.classification import DecisionTreeClassifier\n",
    "from pyspark.ml.evaluation import MulticlassClassificationEvaluator\n",
    "\n",
    "\n",
    "\n",
    "gender_indexer = StringIndexer(inputCol='Gender', outputCol='GenderIndex')\n",
    "status_indexer = StringIndexer(inputCol='Status', outputCol='StatusIndex')\n",
    "agegroup_indexer = StringIndexer(inputCol='AgeGroup', outputCol='AgeGroupIndex')\n",
    "\n",
    "gender_encoder = OneHotEncoder(inputCol='GenderIndex', outputCol='GenderVec')\n",
    "status_encoder = OneHotEncoder(inputCol='StatusIndex', outputCol='StatusVec')\n",
    "agegroup_encoder = OneHotEncoder(inputCol='AgeGroupIndex', outputCol='AgeGroupVec')\n",
    "\n",
    "assembler = VectorAssembler(\n",
    "    inputCols=['Year', 'StatusVec', 'GenderVec', 'GDP', 'AgeGroupVec'],\n",
    "    outputCol='features'\n",
    ")\n"
   ]
  },
  {
   "cell_type": "code",
   "execution_count": 107,
   "id": "2153a161",
   "metadata": {},
   "outputs": [
    {
     "name": "stderr",
     "output_type": "stream",
     "text": [
      "                                                                                \r"
     ]
    },
    {
     "name": "stdout",
     "output_type": "stream",
     "text": [
      "Accuracy: 0.7357352461688946\n"
     ]
    },
    {
     "name": "stderr",
     "output_type": "stream",
     "text": [
      "\r",
      "[Stage 660:============================>                            (1 + 1) / 2]\r",
      "\r",
      "                                                                                \r"
     ]
    },
    {
     "name": "stdout",
     "output_type": "stream",
     "text": [
      "+--------------------+----------+--------------------+\n",
      "|Child_Mortality_Risk|prediction|         probability|\n",
      "+--------------------+----------+--------------------+\n",
      "|                   1|       1.0|[0.09707903780068...|\n",
      "|                   1|       1.0|[0.09707903780068...|\n",
      "|                   1|       1.0|[0.09707903780068...|\n",
      "|                   1|       1.0|[0.09707903780068...|\n",
      "|                   1|       1.0|[0.09707903780068...|\n",
      "|                   1|       1.0|[0.09707903780068...|\n",
      "|                   1|       1.0|[0.35347432024169...|\n",
      "|                   1|       1.0|[0.15698294243070...|\n",
      "|                   1|       1.0|[0.15698294243070...|\n",
      "|                   1|       1.0|[0.15698294243070...|\n",
      "+--------------------+----------+--------------------+\n",
      "only showing top 10 rows\n",
      "\n"
     ]
    }
   ],
   "source": [
    "# Decision Tree\n",
    "\n",
    "dt = DecisionTreeClassifier(labelCol='Child_Mortality_Risk', featuresCol='features', maxDepth=10)\n",
    "\n",
    "pipeline = Pipeline(stages=[gender_indexer, status_indexer, agegroup_indexer,\n",
    "                            gender_encoder, status_encoder, agegroup_encoder,\n",
    "                            assembler, dt])\n",
    "\n",
    "train_data, test_data = merged_df.randomSplit([0.8, 0.2], seed=42)\n",
    "\n",
    "dt_model = pipeline.fit(train_data)\n",
    "\n",
    "dt_predictions = dt_model.transform(test_data)\n",
    "\n",
    "evaluator = MulticlassClassificationEvaluator(labelCol='Child_Mortality_Risk', metricName='accuracy')\n",
    "accuracy = evaluator.evaluate(dt_predictions)\n",
    "print(f\"Accuracy: {accuracy}\")\n",
    "\n",
    "dt_predictions.select('Child_Mortality_Risk', 'prediction', 'probability').show(10)\n"
   ]
  },
  {
   "cell_type": "code",
   "execution_count": 109,
   "id": "a7f1548c",
   "metadata": {},
   "outputs": [
    {
     "name": "stdout",
     "output_type": "stream",
     "text": [
      "Feature: AgeGroupVec, Importance: 0.7025286937106032\n",
      "Feature: Year, Importance: 0.15270857459496334\n",
      "Feature: StatusVec, Importance: 0.077863571278086\n",
      "Feature: GenderVec, Importance: 0.001052563369874456\n",
      "Feature: GDP, Importance: 0.0006694231475126538\n"
     ]
    }
   ],
   "source": [
    "\n",
    "importances = dt_model.stages[-1].featureImportances\n",
    "features = assembler.getInputCols()\n",
    "feature_importance = [(feature, importance) for feature, importance in zip(features, importances)]\n",
    "feature_importance.sort(key=lambda x: x[1], reverse=True)\n",
    "\n",
    "\n",
    "for feature, importance in feature_importance:\n",
    "    print(f\"Feature: {feature}, Importance: {importance}\")\n",
    "\n"
   ]
  },
  {
   "cell_type": "code",
   "execution_count": 110,
   "id": "3b11e3f5",
   "metadata": {},
   "outputs": [
    {
     "name": "stderr",
     "output_type": "stream",
     "text": [
      "                                                                                \r"
     ]
    },
    {
     "data": {
      "image/png": "[encoded data removed]",
      "text/plain": [
       "<Figure size 720x432 with 1 Axes>"
      ]
     },
     "metadata": {
      "needs_background": "light"
     },
     "output_type": "display_data"
    }
   ],
   "source": [
    "# Decision Tree graph\n",
    "\n",
    "\n",
    "transformed_train_data = pipeline.fit(train_data).transform(train_data)\n",
    "\n",
    "gender_vec_size = len(transformed_train_data.select(\"GenderVec\").head()[0])\n",
    "status_vec_size = len(transformed_train_data.select(\"StatusVec\").head()[0])\n",
    "agegroup_vec_size = len(transformed_train_data.select(\"AgeGroupVec\").head()[0])\n",
    "\n",
    "\n",
    "feature_names = ['Year'] + \\\n",
    "                [f'StatusVec_{i}' for i in range(status_vec_size)] + \\\n",
    "                [f'GenderVec_{i}' for i in range(gender_vec_size)] + \\\n",
    "                ['GDP'] + \\\n",
    "                [f'AgeGroupVec_{i}' for i in range(agegroup_vec_size)]\n",
    "\n",
    "\n",
    "feature_importances = dt_model.stages[-1].featureImportances.toArray()\n",
    "\n",
    "\n",
    "import pandas as pd\n",
    "import matplotlib.pyplot as plt\n",
    "import seaborn as sns\n",
    "\n",
    "importances = pd.DataFrame({\n",
    "    'Feature': feature_names,\n",
    "    'Importance': feature_importances\n",
    "})\n",
    "\n",
    "\n",
    "importances = importances.sort_values(by='Importance', ascending=False)\n",
    "\n",
    "\n",
    "plt.figure(figsize=(10, 6))\n",
    "sns.barplot(x='Importance', y='Feature', data=importances, palette='viridis')\n",
    "plt.title('DecisionTree_Feature Importance')\n",
    "plt.xlabel('Importance')\n",
    "plt.ylabel('Feature')\n",
    "plt.show()\n"
   ]
  },
  {
   "cell_type": "code",
   "execution_count": 111,
   "id": "b594e5ab",
   "metadata": {},
   "outputs": [
    {
     "name": "stderr",
     "output_type": "stream",
     "text": [
      "                                                                                \r"
     ]
    }
   ],
   "source": [
    "# Random Forest\n",
    "from pyspark.ml.feature import VectorAssembler, StringIndexer, OneHotEncoder, StandardScaler\n",
    "from pyspark.ml import Pipeline\n",
    "from pyspark.ml.classification import RandomForestClassifier\n",
    "from pyspark.ml.evaluation import MulticlassClassificationEvaluator\n",
    "\n",
    "\n",
    "scaler = StandardScaler(inputCol='features', outputCol='scaledFeatures')\n",
    "\n",
    "\n",
    "rf = RandomForestClassifier(labelCol='Child_Mortality_Risk', featuresCol='scaledFeatures', numTrees=100)\n",
    "\n",
    "\n",
    "rf_pipeline = Pipeline(stages=[gender_indexer, status_indexer, agegroup_indexer,\n",
    "                            gender_encoder, status_encoder, agegroup_encoder,\n",
    "                            assembler, scaler, rf])\n",
    "\n",
    "\n",
    "train_data, test_data = merged_df.randomSplit([0.8, 0.2], seed=42)\n",
    "\n",
    "\n",
    "rf_model = rf_pipeline.fit(train_data)\n",
    "\n",
    "rf_predictions = rf_model.transform(test_data)"
   ]
  },
  {
   "cell_type": "code",
   "execution_count": 112,
   "id": "d6251e76",
   "metadata": {},
   "outputs": [
    {
     "name": "stderr",
     "output_type": "stream",
     "text": [
      "\r",
      "[Stage 1033:>                                                       (0 + 1) / 1]\r",
      "\r",
      "                                                                                \r"
     ]
    },
    {
     "name": "stdout",
     "output_type": "stream",
     "text": [
      "Accuracy: 0.7088359960873818\n",
      "+--------------------+----------+--------------------+\n",
      "|Child_Mortality_Risk|prediction|         probability|\n",
      "+--------------------+----------+--------------------+\n",
      "|                   1|       1.0|[0.22436693595529...|\n",
      "|                   1|       1.0|[0.21510756058012...|\n",
      "|                   1|       1.0|[0.22221830586230...|\n",
      "|                   1|       1.0|[0.22566898168044...|\n",
      "|                   1|       1.0|[0.21723213768874...|\n",
      "|                   1|       1.0|[0.22398981788705...|\n",
      "|                   1|       1.0|[0.37813889456564...|\n",
      "|                   1|       1.0|[0.22398981788705...|\n",
      "|                   1|       1.0|[0.22817396062043...|\n",
      "|                   1|       1.0|[0.22317406788494...|\n",
      "|                   1|       1.0|[0.22398981788705...|\n",
      "|                   1|       1.0|[0.22566898168044...|\n",
      "|                   1|       1.0|[0.36792950608188...|\n",
      "|                   1|       1.0|[0.21793784639940...|\n",
      "|                   1|       1.0|[0.22425198518424...|\n",
      "|                   1|       1.0|[0.22837449141077...|\n",
      "|                   1|       1.0|[0.37813889456564...|\n",
      "|                   1|       1.0|[0.38418531896188...|\n",
      "|                   1|       1.0|[0.38569510980071...|\n",
      "|                   1|       1.0|[0.22651115278400...|\n",
      "+--------------------+----------+--------------------+\n",
      "only showing top 20 rows\n",
      "\n"
     ]
    }
   ],
   "source": [
    "evaluator = MulticlassClassificationEvaluator(labelCol='Child_Mortality_Risk', metricName='accuracy')\n",
    "accuracy = evaluator.evaluate(rf_predictions)\n",
    "print(f\"Accuracy: {accuracy}\")\n",
    "\n",
    "\n",
    "rf_predictions.select('Child_Mortality_Risk', 'prediction', 'probability').show()"
   ]
  },
  {
   "cell_type": "code",
   "execution_count": 113,
   "id": "97a40023",
   "metadata": {},
   "outputs": [
    {
     "name": "stdout",
     "output_type": "stream",
     "text": [
      "Feature: Year, Importance: 0.01785823396596794\n",
      "Feature: StatusVec, Importance: 0.25150974434618634\n",
      "Feature: GenderVec, Importance: 0.00016080329821718708\n",
      "Feature: GDP, Importance: 0.00029392087857289437\n",
      "Feature: AgeGroupVec, Importance: 0.6636035504790274\n"
     ]
    }
   ],
   "source": [
    "rf_model = rf_model.stages[-1]  \n",
    "feature_importances = rf_model.featureImportances\n",
    "\n",
    "feature_names = assembler.getInputCols()\n",
    "for feature, importance in zip(feature_names, feature_importances):\n",
    "    print(f\"Feature: {feature}, Importance: {importance}\")"
   ]
  },
  {
   "cell_type": "code",
   "execution_count": 116,
   "id": "a2ba0e63",
   "metadata": {},
   "outputs": [
    {
     "name": "stderr",
     "output_type": "stream",
     "text": [
      "                                                                                \r"
     ]
    },
    {
     "name": "stdout",
     "output_type": "stream",
     "text": [
      "Accuracy: 0.7088359960873818\n"
     ]
    },
    {
     "data": {
      "image/png": "[encoded data removed]",
      "text/plain": [
       "<Figure size 720x432 with 1 Axes>"
      ]
     },
     "metadata": {
      "needs_background": "light"
     },
     "output_type": "display_data"
    }
   ],
   "source": [
    "from pyspark.ml.feature import VectorAssembler, StringIndexer, OneHotEncoder\n",
    "from pyspark.ml import Pipeline\n",
    "from pyspark.ml.classification import RandomForestClassifier\n",
    "from pyspark.ml.evaluation import MulticlassClassificationEvaluator\n",
    "from pyspark.ml.feature import StandardScaler\n",
    "import pandas as pd\n",
    "import matplotlib.pyplot as plt\n",
    "import seaborn as sns\n",
    "\n",
    "# Preprocessing and pipeline stages\n",
    "gender_indexer = StringIndexer(inputCol='Gender', outputCol='GenderIndex')\n",
    "status_indexer = StringIndexer(inputCol='Status', outputCol='StatusIndex')\n",
    "agegroup_indexer = StringIndexer(inputCol='AgeGroup', outputCol='AgeGroupIndex')\n",
    "\n",
    "gender_encoder = OneHotEncoder(inputCol='GenderIndex', outputCol='GenderVec')\n",
    "status_encoder = OneHotEncoder(inputCol='StatusIndex', outputCol='StatusVec')\n",
    "agegroup_encoder = OneHotEncoder(inputCol='AgeGroupIndex', outputCol='AgeGroupVec')\n",
    "\n",
    "assembler = VectorAssembler(\n",
    "    inputCols=['Year', 'StatusVec', 'GenderVec', 'GDP', 'AgeGroupVec'],\n",
    "    outputCol='features'\n",
    ")\n",
    "\n",
    "scaler = StandardScaler(inputCol='features', outputCol='scaledFeatures')\n",
    "\n",
    "rf = RandomForestClassifier(labelCol='Child_Mortality_Risk', featuresCol='scaledFeatures', numTrees=100)\n",
    "\n",
    "rf_pipeline = Pipeline(stages=[gender_indexer, status_indexer, agegroup_indexer,\n",
    "                               gender_encoder, status_encoder, agegroup_encoder, assembler, scaler, rf])\n",
    "\n",
    "# Split the data\n",
    "train_data, test_data = merged_df.randomSplit([0.8, 0.2], seed=42)\n",
    "\n",
    "# Fit the model\n",
    "rf_model = rf_pipeline.fit(train_data)\n",
    "\n",
    "# Transform the training data to get the transformed DataFrame\n",
    "transformed_train_data = rf_model.transform(train_data)\n",
    "\n",
    "# Transform the test data\n",
    "rf_predictions = rf_model.transform(test_data)\n",
    "\n",
    "# Evaluate the model\n",
    "evaluator = MulticlassClassificationEvaluator(labelCol='Child_Mortality_Risk', metricName='accuracy')\n",
    "accuracy = evaluator.evaluate(rf_predictions)\n",
    "print(f\"Accuracy: {accuracy}\")\n",
    "\n",
    "# Get feature importances\n",
    "rf_model_final = rf_model.stages[-1]\n",
    "feature_importances = rf_model_final.featureImportances\n",
    "\n",
    "# Get feature names from the transformed DataFrame\n",
    "gender_vec_size = len(transformed_train_data.select(\"GenderVec\").head()[0])\n",
    "status_vec_size = len(transformed_train_data.select(\"StatusVec\").head()[0])\n",
    "agegroup_vec_size = len(transformed_train_data.select(\"AgeGroupVec\").head()[0])\n",
    "\n",
    "feature_names = ['Year'] + \\\n",
    "                [f'StatusVec_{i}' for i in range(status_vec_size)] + \\\n",
    "                [f'GenderVec_{i}' for i in range(gender_vec_size)] + \\\n",
    "                ['GDP'] + \\\n",
    "                [f'AgeGroupVec_{i}' for i in range(agegroup_vec_size)]\n",
    "\n",
    "# Collect feature importances into a DataFrame\n",
    "importances = pd.DataFrame({\n",
    "    'Feature': feature_names,\n",
    "    'Importance': feature_importances.toArray()\n",
    "})\n",
    "\n",
    "# Sort by importance\n",
    "importances = importances.sort_values(by='Importance', ascending=False)\n",
    "\n",
    "# Plot using Matplotlib\n",
    "plt.figure(figsize=(10, 6))\n",
    "sns.barplot(x='Importance', y='Feature', data=importances, palette='viridis')\n",
    "plt.title('Random Forest_Feature Importance')\n",
    "plt.xlabel('Importance')\n",
    "plt.ylabel('Feature')\n",
    "plt.show()\n"
   ]
  },
  {
   "cell_type": "code",
   "execution_count": 114,
   "id": "bd728bd2",
   "metadata": {},
   "outputs": [
    {
     "name": "stderr",
     "output_type": "stream",
     "text": [
      "                                                                                \r"
     ]
    }
   ],
   "source": [
    "# Logistic Regression\n",
    "\n",
    "from pyspark.ml.classification import LogisticRegression\n",
    "\n",
    "lr = LogisticRegression(labelCol='Child_Mortality_Risk', featuresCol='scaledFeatures', maxIter=10)\n",
    "\n",
    "\n",
    "lr_pipeline = Pipeline(stages=[gender_indexer, status_indexer, agegroup_indexer,\n",
    "                            gender_encoder, status_encoder, agegroup_encoder,\n",
    "                            assembler, scaler, lr])\n",
    "\n",
    "lr_model = lr_pipeline.fit(train_data)\n",
    "\n",
    "lr_predictions = lr_model.transform(test_data)\n"
   ]
  },
  {
   "cell_type": "code",
   "execution_count": 115,
   "id": "7f2aa42c",
   "metadata": {},
   "outputs": [
    {
     "name": "stdout",
     "output_type": "stream",
     "text": [
      "Logistic Regression Accuracy: 0.7083469188131725\n",
      "+--------------------+----------+--------------------+\n",
      "|Child_Mortality_Risk|prediction|         probability|\n",
      "+--------------------+----------+--------------------+\n",
      "|                   1|       1.0|[0.13037335333619...|\n",
      "|                   1|       1.0|[0.14167130663508...|\n",
      "|                   1|       1.0|[0.14811340919580...|\n",
      "|                   1|       1.0|[0.13160972706828...|\n",
      "|                   1|       1.0|[0.14948909813777...|\n",
      "|                   1|       1.0|[0.17047702614411...|\n",
      "|                   1|       1.0|[0.31297601794266...|\n",
      "|                   1|       1.0|[0.20647846375582...|\n",
      "|                   1|       1.0|[0.20449331568034...|\n",
      "|                   1|       1.0|[0.21070243506048...|\n",
      "+--------------------+----------+--------------------+\n",
      "only showing top 10 rows\n",
      "\n",
      "Feature: Year, Coefficient: -0.06047534400199706\n",
      "Feature: StatusVec, Coefficient: 0.3806930303528708\n",
      "Feature: GenderVec, Coefficient: 0.006733444251884287\n",
      "Feature: GDP, Coefficient: 0.02455871760426229\n",
      "Feature: AgeGroupVec, Coefficient: -0.8759437488306143\n"
     ]
    }
   ],
   "source": [
    "evaluator = MulticlassClassificationEvaluator(labelCol='Child_Mortality_Risk', metricName='accuracy')\n",
    "lr_accuracy = evaluator.evaluate(lr_predictions)\n",
    "\n",
    "print(f\"Logistic Regression Accuracy: {lr_accuracy}\")\n",
    "\n",
    "\n",
    "lr_predictions.select('Child_Mortality_Risk', 'prediction', 'probability').show(10)\n",
    "\n",
    "\n",
    "lr_stage = lr_model.stages[-1]  \n",
    "coefficients = lr_stage.coefficients.toArray()\n",
    "\n",
    "feature_names = assembler.getInputCols()\n",
    "for feature, coefficient in zip(feature_names, coefficients):\n",
    "    print(f\"Feature: {feature}, Coefficient: {coefficient}\")"
   ]
  },
  {
   "cell_type": "code",
   "execution_count": null,
   "id": "7a0c825b",
   "metadata": {},
   "outputs": [],
   "source": []
  }
 ],
 "metadata": {
  "kernelspec": {
   "display_name": "Python 3 (ipykernel)",
   "language": "python",
   "name": "python3"
  },
  "language_info": {
   "codemirror_mode": {
    "name": "ipython",
    "version": 3
   },
   "file_extension": ".py",
   "mimetype": "text/x-python",
   "name": "python",
   "nbconvert_exporter": "python",
   "pygments_lexer": "ipython3",
   "version": "3.10.12"
  }
 },
 "nbformat": 4,
 "nbformat_minor": 5
}
